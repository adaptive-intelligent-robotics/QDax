{
 "cells": [
  {
   "cell_type": "markdown",
   "id": "59f748d3",
   "metadata": {},
   "source": [
    "[![Open In Colab](https://colab.research.google.com/assets/colab-badge.svg)](https://colab.research.google.com/github/adaptive-intelligent-robotics/QDax/blob/main/notebooks/mome_example.ipynb)"
   ]
  },
  {
   "cell_type": "markdown",
   "id": "a5e13ff6",
   "metadata": {},
   "source": [
    "# Optimizing multiple objectives with MOME in Jax\n",
    "\n",
    "This notebook shows how to use QDax to find diverse and performing parameters on a multi-objectives Rastrigin problem, using [Multi-Objective MAP-Elites](https://arxiv.org/pdf/2202.03057.pdf) (MOME) algorithm. It can be run locally or on Google Colab. We recommand to use a GPU. This notebook will show:\n",
    "\n",
    "- how to define the problem\n",
    "- how to create an emitter instance\n",
    "- how to create a Multi Objective Map-Elites instance\n",
    "- which functions must be defined before training\n",
    "- how to launch a certain number of training steps\n",
    "- how to visualise the optimization process"
   ]
  },
  {
   "cell_type": "code",
   "execution_count": null,
   "id": "af063418",
   "metadata": {},
   "outputs": [],
   "source": [
    "import jax.numpy as jnp\n",
    "import jax\n",
    "from typing import Tuple\n",
    "\n",
    "from functools import partial\n",
    "\n",
    "try:\n",
    "    import flax\n",
    "except:\n",
    "    !pip install --no-deps git+https://github.com/google/flax.git@v0.4.1 |tail -n 1\n",
    "    import flax\n",
    "\n",
    "try:\n",
    "    import chex\n",
    "except:\n",
    "    !pip install --no-deps git+https://github.com/deepmind/chex.git@v0.1.3 |tail -n 1\n",
    "    import chex\n",
    "    \n",
    "try:\n",
    "    import qdax\n",
    "except:\n",
    "    !pip install --no-deps git+https://github.com/adaptive-intelligent-robotics/QDax@main |tail -n 1\n",
    "    import qdax\n",
    "\n",
    "from qdax.core.containers.mapelites_repertoire import compute_cvt_centroids\n",
    "from qdax.core.mome import MOME\n",
    "from qdax.core.emitters.mutation_operators import (\n",
    "    polynomial_mutation, \n",
    "    polynomial_crossover, \n",
    ")\n",
    "from qdax.core.emitters.standard_emitters import MixingEmitter\n",
    "from qdax.utils.plotting import plot_2d_map_elites_repertoire, plot_mome_pareto_fronts\n",
    "\n",
    "from qdax.utils.metrics import default_moqd_metrics\n",
    "\n",
    "import matplotlib.pyplot as plt\n",
    "\n",
    "from qdax.types import Fitness, Descriptor, RNGKey, ExtraScores"
   ]
  },
  {
   "cell_type": "markdown",
   "id": "22495c16",
   "metadata": {},
   "source": [
    "## Set the hyperparameters"
   ]
  },
  {
   "cell_type": "code",
   "execution_count": null,
   "id": "b96b5d07",
   "metadata": {},
   "outputs": [],
   "source": [
    "#@markdown ---\n",
    "pareto_front_max_length = 50 #@param {type:\"integer\"}\n",
    "num_variables = 100 #@param {type:\"integer\"}\n",
    "num_iterations = 1000 #@param {type:\"integer\"}\n",
    "\n",
    "num_centroids = 64 #@param {type:\"integer\"}\n",
    "minval = -2 #@param {type:\"number\"}\n",
    "maxval = 4 #@param {type:\"number\"}\n",
    "proportion_to_mutate = 0.6 #@param {type:\"number\"}\n",
    "eta = 1 #@param {type:\"number\"}\n",
    "proportion_var_to_change = 0.5 #@param {type:\"number\"}\n",
    "crossover_percentage = 1. #@param {type:\"number\"}\n",
    "batch_size = 100 #@param {type:\"integer\"}\n",
    "lag = 2.2 #@param {type:\"number\"}\n",
    "base_lag = 0 #@param {type:\"number\"}\n",
    "#@markdown ---"
   ]
  },
  {
   "cell_type": "markdown",
   "id": "c2850d54",
   "metadata": {},
   "source": [
    "## Define the scoring function: rastrigin multi-objective\n",
    "\n",
    "We use two rastrigin functions with an offset to create a multi-objective problem."
   ]
  },
  {
   "cell_type": "code",
   "execution_count": null,
   "id": "b5effe11",
   "metadata": {},
   "outputs": [],
   "source": [
    "def rastrigin_scorer(\n",
    "    genotypes: jnp.ndarray, base_lag: float, lag: float\n",
    ") -> Tuple[Fitness, Descriptor]:\n",
    "    \"\"\"\n",
    "    Rastrigin Scorer with first two dimensions as descriptors\n",
    "    \"\"\"\n",
    "    descriptors = genotypes[:, :2]\n",
    "    f1 = -(\n",
    "        10 * genotypes.shape[1]\n",
    "        + jnp.sum(\n",
    "            (genotypes - base_lag) ** 2\n",
    "            - 10 * jnp.cos(2 * jnp.pi * (genotypes - base_lag)),\n",
    "            axis=1,\n",
    "        )\n",
    "    )\n",
    "\n",
    "    f2 = -(\n",
    "        10 * genotypes.shape[1]\n",
    "        + jnp.sum(\n",
    "            (genotypes - lag) ** 2 - 10 * jnp.cos(2 * jnp.pi * (genotypes - lag)),\n",
    "            axis=1,\n",
    "        )\n",
    "    )\n",
    "    scores = jnp.stack([f1, f2], axis=-1)\n",
    "\n",
    "    return scores, descriptors"
   ]
  },
  {
   "cell_type": "code",
   "execution_count": null,
   "id": "231d273d",
   "metadata": {},
   "outputs": [],
   "source": [
    "scoring_function = partial(rastrigin_scorer, base_lag=base_lag, lag=lag)\n",
    "\n",
    "def scoring_fn(genotypes: jnp.ndarray, random_key: RNGKey) -> Tuple[Fitness, Descriptor, ExtraScores, RNGKey]:\n",
    "    fitnesses, descriptors = scoring_function(genotypes)\n",
    "    return fitnesses, descriptors, {}, random_key"
   ]
  },
  {
   "cell_type": "markdown",
   "id": "29250e72",
   "metadata": {},
   "source": [
    "## Define the metrics function that will be used"
   ]
  },
  {
   "cell_type": "code",
   "execution_count": null,
   "id": "ab5d6334",
   "metadata": {},
   "outputs": [],
   "source": [
    "reference_point = jnp.array([ -150, -150])\n",
    "\n",
    "# how to compute metrics from a repertoire\n",
    "metrics_function = partial(\n",
    "    default_moqd_metrics,\n",
    "    reference_point=reference_point\n",
    ")"
   ]
  },
  {
   "cell_type": "markdown",
   "id": "a4828ca8",
   "metadata": {},
   "source": [
    "## Define the initial population and the emitter"
   ]
  },
  {
   "cell_type": "code",
   "execution_count": null,
   "id": "ebf3bd27",
   "metadata": {},
   "outputs": [],
   "source": [
    "# initial population\n",
    "random_key = jax.random.PRNGKey(42)\n",
    "random_key, subkey = jax.random.split(random_key)\n",
    "init_genotypes = jax.random.uniform(\n",
    "    random_key, (batch_size, num_variables), minval=minval, maxval=maxval, dtype=jnp.float32\n",
    ")\n",
    "\n",
    "# crossover function\n",
    "crossover_function = partial(\n",
    "    polynomial_crossover,\n",
    "    proportion_var_to_change=proportion_var_to_change\n",
    ")\n",
    "\n",
    "# mutation function\n",
    "mutation_function = partial(\n",
    "    polynomial_mutation,\n",
    "    eta=eta,\n",
    "    minval=minval,\n",
    "    maxval=maxval,\n",
    "    proportion_to_mutate=proportion_to_mutate\n",
    ")\n",
    "\n",
    "# Define emitter\n",
    "mixing_emitter = MixingEmitter(\n",
    "    mutation_fn=mutation_function, \n",
    "    variation_fn=crossover_function, \n",
    "    variation_percentage=crossover_percentage, \n",
    "    batch_size=batch_size\n",
    ")"
   ]
  },
  {
   "cell_type": "markdown",
   "id": "c904664b",
   "metadata": {},
   "source": [
    "## Compute the centroids"
   ]
  },
  {
   "cell_type": "code",
   "execution_count": null,
   "id": "76547c4c",
   "metadata": {},
   "outputs": [],
   "source": [
    "centroids, random_key = compute_cvt_centroids(\n",
    "    num_descriptors=2, \n",
    "    num_init_cvt_samples=20000, \n",
    "    num_centroids=num_centroids, \n",
    "    minval=minval, \n",
    "    maxval=maxval,\n",
    "    random_key=random_key,\n",
    ")"
   ]
  },
  {
   "cell_type": "markdown",
   "id": "15936d15",
   "metadata": {},
   "source": [
    "## Define a MOME instance"
   ]
  },
  {
   "cell_type": "code",
   "execution_count": null,
   "id": "07a0d1d9",
   "metadata": {},
   "outputs": [],
   "source": [
    "mome = MOME(\n",
    "    scoring_function=scoring_fn,\n",
    "    emitter=mixing_emitter,\n",
    "    metrics_function=metrics_function,\n",
    ")"
   ]
  },
  {
   "cell_type": "markdown",
   "id": "f7ec5a77",
   "metadata": {},
   "source": [
    "## Init the algorithm"
   ]
  },
  {
   "cell_type": "code",
   "execution_count": null,
   "id": "c05cbf1e",
   "metadata": {},
   "outputs": [],
   "source": [
    "repertoire, emitter_state, random_key = mome.init(\n",
    "    init_genotypes,\n",
    "    centroids,\n",
    "    pareto_front_max_length,\n",
    "    random_key\n",
    ")"
   ]
  },
  {
   "cell_type": "markdown",
   "id": "6de4cedf",
   "metadata": {},
   "source": [
    "## Run MOME iterations"
   ]
  },
  {
   "cell_type": "code",
   "execution_count": null,
   "id": "96ea04e6",
   "metadata": {},
   "outputs": [],
   "source": [
    "%%time\n",
    "\n",
    "# Run the algorithm\n",
    "(repertoire, emitter_state, random_key,), metrics = jax.lax.scan(\n",
    "    mome.scan_update,\n",
    "    (repertoire, emitter_state, random_key),\n",
    "    (),\n",
    "    length=num_iterations,\n",
    ")"
   ]
  },
  {
   "cell_type": "markdown",
   "id": "3ff9ca98",
   "metadata": {},
   "source": [
    "## Plot the results"
   ]
  },
  {
   "cell_type": "code",
   "execution_count": null,
   "id": "6766dc4f",
   "metadata": {},
   "outputs": [],
   "source": [
    "moqd_scores = jnp.sum(metrics[\"moqd_score\"], where=metrics[\"moqd_score\"] != -jnp.inf, axis=-1)"
   ]
  },
  {
   "cell_type": "code",
   "execution_count": null,
   "id": "28ab56c9",
   "metadata": {},
   "outputs": [],
   "source": [
    "f, (ax1, ax2, ax3, ax4) = plt.subplots(1, 4, figsize=(25, 5))\n",
    "\n",
    "steps = batch_size * jnp.arange(start=0, stop=num_iterations)\n",
    "ax1.plot(steps, moqd_scores)\n",
    "ax1.set_xlabel('Num steps')\n",
    "ax1.set_ylabel('MOQD Score')\n",
    "\n",
    "ax2.plot(steps, metrics[\"max_hypervolume\"])\n",
    "ax2.set_xlabel('Num steps')\n",
    "ax2.set_ylabel('Max Hypervolume')\n",
    "\n",
    "ax3.plot(steps, metrics[\"max_sum_scores\"])\n",
    "ax3.set_xlabel('Num steps')\n",
    "ax3.set_ylabel('Max Sum Scores')\n",
    "\n",
    "ax4.plot(steps, metrics[\"coverage\"])\n",
    "ax4.set_xlabel('Num steps')\n",
    "ax4.set_ylabel('Coverage')\n",
    "plt.show()"
   ]
  },
  {
   "cell_type": "code",
   "execution_count": null,
   "id": "2ab36cb7",
   "metadata": {},
   "outputs": [],
   "source": [
    "fig, axes = plt.subplots(figsize=(18, 6), ncols=3)\n",
    "\n",
    "# plot pareto fronts\n",
    "axes = plot_mome_pareto_fronts(\n",
    "    centroids,\n",
    "    repertoire,\n",
    "    minval=minval,\n",
    "    maxval=maxval,\n",
    "    color_style='spectral',\n",
    "    axes=axes,\n",
    "    with_global=True\n",
    ")\n",
    "\n",
    "# add map elites plot on last axe\n",
    "plot_2d_map_elites_repertoire(\n",
    "    centroids=centroids,\n",
    "    repertoire_fitnesses=metrics[\"moqd_score\"][-1],\n",
    "    minval=minval,\n",
    "    maxval=maxval,\n",
    "    ax=axes[2]\n",
    ")\n",
    "plt.show()"
   ]
  }
 ],
 "metadata": {
  "kernelspec": {
   "display_name": "Python 3.8.13 ('qdaxpy38')",
   "language": "python",
   "name": "python3"
  },
  "language_info": {
   "codemirror_mode": {
    "name": "ipython",
    "version": 3
   },
   "file_extension": ".py",
   "mimetype": "text/x-python",
   "name": "python",
   "nbconvert_exporter": "python",
   "pygments_lexer": "ipython3",
   "version": "3.8.13"
  },
  "vscode": {
   "interpreter": {
    "hash": "9ae46cf6a59eb5e192bc4f27fbb5c33d8a30eb9acb43edbb510eeaf7c819ab64"
   }
  }
 },
 "nbformat": 4,
 "nbformat_minor": 5
}
