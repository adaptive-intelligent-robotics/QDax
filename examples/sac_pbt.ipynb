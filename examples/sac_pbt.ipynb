{
 "cells": [
  {
   "cell_type": "code",
   "execution_count": null,
   "id": "1606cdf6",
   "metadata": {
    "jupyter": {
     "outputs_hidden": false
    },
    "pycharm": {
     "name": "#%%\n"
    }
   },
   "outputs": [],
   "source": [
    "import functools\n",
    "\n",
    "import jax\n",
    "import jax.numpy as jnp\n",
    "from brax.io import html\n",
    "from IPython.display import HTML\n",
    "from tqdm import tqdm\n",
    "\n",
    "from qdax import environments\n",
    "from qdax.baselines.pbt import PBT\n",
    "from qdax.baselines.sac_pbt import PBTSAC, PBTSacConfig"
   ]
  },
  {
   "cell_type": "code",
   "execution_count": null,
   "id": "df61dcc5",
   "metadata": {
    "jupyter": {
     "outputs_hidden": false
    },
    "pycharm": {
     "name": "#%%\n"
    }
   },
   "outputs": [],
   "source": [
    "jax.config.update(\"jax_platform_name\", \"cpu\")"
   ]
  },
  {
   "cell_type": "code",
   "execution_count": null,
   "id": "e7d0b0ef",
   "metadata": {
    "jupyter": {
     "outputs_hidden": false
    },
    "pycharm": {
     "name": "#%%\n"
    }
   },
   "outputs": [],
   "source": [
    "devices = jax.devices(\"tpu\")\n",
    "num_devices = len(devices)\n",
    "print(f\"Detected the following {num_devices} device(s): {devices}\")"
   ]
  },
  {
   "cell_type": "code",
   "execution_count": null,
   "id": "1f342948",
   "metadata": {
    "jupyter": {
     "outputs_hidden": false
    },
    "pycharm": {
     "name": "#%%\n"
    }
   },
   "outputs": [],
   "source": [
    "env_name = \"humanoidtrap\"\n",
    "seed = 0\n",
    "env_batch_size = 250\n",
    "population_size_per_device = 10\n",
    "population_size = population_size_per_device * num_devices\n",
    "num_steps = 10000\n",
    "buffer_size = 100000\n",
    "\n",
    "# PBT Config\n",
    "num_best_to_replace_from = 20\n",
    "num_worse_to_replace = 40\n",
    "\n",
    "# SAC config\n",
    "batch_size = 256\n",
    "episode_length = 1000\n",
    "grad_updates_per_step = 1.0\n",
    "tau = 0.005\n",
    "alpha_init = 1.0\n",
    "critic_hidden_layer_size = (256, 256) \n",
    "policy_hidden_layer_size = (256, 256)\n",
    "fix_alpha = False\n",
    "normalize_observations = False\n",
    "\n",
    "num_loops = 10\n",
    "print_freq = 1"
   ]
  },
  {
   "cell_type": "code",
   "execution_count": null,
   "id": "090f8d4d",
   "metadata": {
    "jupyter": {
     "outputs_hidden": false
    },
    "pycharm": {
     "name": "#%%\n"
    }
   },
   "outputs": [],
   "source": [
    "%%time\n",
    "# Initialize environments\n",
    "env = environments.create(\n",
    "    env_name=env_name,\n",
    "    batch_size=env_batch_size * population_size_per_device,\n",
    "    episode_length=episode_length,\n",
    "    auto_reset=True,\n",
    ")\n",
    "\n",
    "eval_env = environments.create(\n",
    "    env_name=env_name,\n",
    "    batch_size=env_batch_size * population_size_per_device,\n",
    "    episode_length=episode_length,\n",
    "    auto_reset=True,\n",
    ")"
   ]
  },
  {
   "cell_type": "code",
   "execution_count": null,
   "id": "efac713a",
   "metadata": {
    "jupyter": {
     "outputs_hidden": false
    },
    "pycharm": {
     "name": "#%%\n"
    }
   },
   "outputs": [],
   "source": [
    "@jax.jit\n",
    "def init_environments(random_key):\n",
    "\n",
    "    env_states = jax.jit(env.reset)(rng=random_key)\n",
    "    eval_env_first_states = jax.jit(eval_env.reset)(rng=random_key)\n",
    "\n",
    "    reshape_fn = jax.jit(\n",
    "        lambda tree: jax.tree_map(\n",
    "            lambda x: jnp.reshape(\n",
    "                x,\n",
    "                (\n",
    "                    population_size_per_device,\n",
    "                    env_batch_size,\n",
    "                )\n",
    "                + x.shape[1:],\n",
    "            ),\n",
    "            tree,\n",
    "        ),\n",
    "    )\n",
    "    env_states = reshape_fn(env_states)\n",
    "    eval_env_first_states = reshape_fn(eval_env_first_states)\n",
    "\n",
    "    return env_states, eval_env_first_states"
   ]
  },
  {
   "cell_type": "code",
   "execution_count": null,
   "id": "0bccfc6d",
   "metadata": {
    "jupyter": {
     "outputs_hidden": false
    },
    "pycharm": {
     "name": "#%%\n"
    }
   },
   "outputs": [],
   "source": [
    "# %%time\n",
    "key = jax.random.PRNGKey(seed)\n",
    "key, *keys = jax.random.split(key, num=1 + num_devices)\n",
    "keys = jnp.stack(keys)\n",
    "env_states, eval_env_first_states = jax.pmap(\n",
    "    init_environments, axis_name=\"p\", devices=devices\n",
    ")(keys)"
   ]
  },
  {
   "cell_type": "code",
   "execution_count": null,
   "id": "708eea0a",
   "metadata": {
    "jupyter": {
     "outputs_hidden": false
    },
    "pycharm": {
     "name": "#%%\n"
    }
   },
   "outputs": [],
   "source": [
    "# get agent\n",
    "config = PBTSacConfig(\n",
    "    batch_size=batch_size,\n",
    "    episode_length=episode_length,\n",
    "    tau=tau,\n",
    "    normalize_observations=normalize_observations,\n",
    "    alpha_init=alpha_init,\n",
    "    critic_hidden_layer_size=critic_hidden_layer_size,\n",
    "    policy_hidden_layer_size=policy_hidden_layer_size,\n",
    "    fix_alpha=fix_alpha,\n",
    ")\n",
    "\n",
    "agent = PBTSAC(config=config, action_size=env.action_size)"
   ]
  },
  {
   "cell_type": "code",
   "execution_count": null,
   "id": "8e6e2bec",
   "metadata": {
    "jupyter": {
     "outputs_hidden": false
    },
    "pycharm": {
     "name": "#%%\n"
    }
   },
   "outputs": [],
   "source": [
    "%%time\n",
    "# get the initial training states and replay buffers\n",
    "agent_init_fn = agent.get_init_fn(\n",
    "    population_size=population_size_per_device,\n",
    "    action_size=env.action_size,\n",
    "    observation_size=env.observation_size,\n",
    "    buffer_size=buffer_size,\n",
    ")\n",
    "keys, training_states, replay_buffers = jax.pmap(\n",
    "    agent_init_fn, axis_name=\"p\", devices=devices\n",
    ")(keys)"
   ]
  },
  {
   "cell_type": "code",
   "execution_count": null,
   "id": "3f09fe1e",
   "metadata": {
    "jupyter": {
     "outputs_hidden": false
    },
    "pycharm": {
     "name": "#%%\n"
    }
   },
   "outputs": [],
   "source": [
    "# get eval policy fonction\n",
    "eval_policy = jax.pmap(agent.get_eval_fn(eval_env), axis_name=\"p\", devices=devices)"
   ]
  },
  {
   "cell_type": "code",
   "execution_count": null,
   "id": "66ba826a",
   "metadata": {
    "jupyter": {
     "outputs_hidden": false
    },
    "pycharm": {
     "name": "#%%\n"
    }
   },
   "outputs": [],
   "source": [
    "%%time\n",
    "# eval policy before training\n",
    "population_returns, _ = eval_policy(training_states, eval_env_first_states)\n",
    "population_returns = jnp.reshape(population_returns, (population_size,))\n",
    "print(\n",
    "    f\"Evaluation over {env_batch_size} episodes,\"\n",
    "    f\" Population mean return: {jnp.mean(population_returns)},\"\n",
    "    f\" max return: {jnp.max(population_returns)}\"\n",
    ")"
   ]
  },
  {
   "cell_type": "code",
   "execution_count": null,
   "id": "a49af55e",
   "metadata": {
    "jupyter": {
     "outputs_hidden": false
    },
    "pycharm": {
     "name": "#%%\n"
    }
   },
   "outputs": [],
   "source": [
    "# get training function\n",
    "num_iterations = num_steps // env_batch_size\n",
    "\n",
    "train_fn = agent.get_train_fn(\n",
    "    env=env,\n",
    "    num_iterations=num_iterations,\n",
    "    env_batch_size=env_batch_size,\n",
    "    grad_updates_per_step=grad_updates_per_step,\n",
    ")\n",
    "train_fn = jax.pmap(train_fn, axis_name=\"p\", devices=devices)"
   ]
  },
  {
   "cell_type": "code",
   "execution_count": null,
   "id": "b137c8e5",
   "metadata": {
    "jupyter": {
     "outputs_hidden": false
    },
    "pycharm": {
     "name": "#%%\n"
    }
   },
   "outputs": [],
   "source": [
    "pbt = PBT(\n",
    "    population_size=population_size,\n",
    "    num_best_to_replace_from=num_best_to_replace_from // num_devices,\n",
    "    num_worse_to_replace=num_worse_to_replace // num_devices,\n",
    ")\n",
    "select_fn = jax.pmap(pbt.update_states_and_buffer_pmap, axis_name=\"p\", devices=devices)"
   ]
  },
  {
   "cell_type": "code",
   "execution_count": null,
   "id": "1dbbb855",
   "metadata": {
    "jupyter": {
     "outputs_hidden": false
    },
    "pycharm": {
     "name": "#%%\n"
    }
   },
   "outputs": [],
   "source": [
    "@jax.jit\n",
    "def unshard_fn(sharded_tree):\n",
    "    tree = jax.tree_map(lambda x: jax.device_put(x, \"cpu\"), sharded_tree)\n",
    "    tree = jax.tree_map(\n",
    "        lambda x: jnp.reshape(x, (population_size,) + x.shape[2:]), tree\n",
    "    )\n",
    "    return tree"
   ]
  },
  {
   "cell_type": "code",
   "execution_count": null,
   "id": "a052ba2e",
   "metadata": {
    "jupyter": {
     "outputs_hidden": false
    },
    "pycharm": {
     "name": "#%%\n"
    }
   },
   "outputs": [],
   "source": [
    "%%time\n",
    "for i in tqdm(range(num_loops), total=num_loops):\n",
    "\n",
    "    # Update for num_steps\n",
    "    (training_states, env_states, replay_buffers), metrics = train_fn(\n",
    "        training_states, env_states, replay_buffers\n",
    "    )\n",
    "\n",
    "    # Eval policy after training\n",
    "    population_returns, _ = eval_policy(training_states, eval_env_first_states)\n",
    "    population_returns_flatten = jnp.reshape(population_returns, (population_size,))\n",
    "\n",
    "    if i % print_freq == 0:\n",
    "        print(\n",
    "            f\"Evaluation over {env_batch_size} episodes,\"\n",
    "            f\" Population mean return: {jnp.mean(population_returns_flatten)},\"\n",
    "            f\" max return: {jnp.max(population_returns_flatten)}\"\n",
    "        )\n",
    "\n",
    "    # PBT selection\n",
    "    if i < (num_loops-1):\n",
    "        keys, training_states, replay_buffers = select_fn(\n",
    "            keys, population_returns, training_states, replay_buffers\n",
    "        )"
   ]
  },
  {
   "cell_type": "code",
   "execution_count": null,
   "id": "4f7354f2",
   "metadata": {
    "pycharm": {
     "name": "#%%\n"
    }
   },
   "outputs": [],
   "source": [
    "### Visualize learnt behaviors"
   ]
  },
  {
   "cell_type": "code",
   "execution_count": null,
   "id": "cd1c27e8-1fe7-464d-8af3-72fa8d61852d",
   "metadata": {
    "pycharm": {
     "name": "#%%\n"
    }
   },
   "outputs": [],
   "source": [
    "training_states = unshard_fn(training_states)\n",
    "best_idx = jnp.argmax(population_returns)\n",
    "best_training_state = jax.tree_map(lambda x: x[best_idx], training_states)"
   ]
  },
  {
   "cell_type": "code",
   "execution_count": null,
   "id": "60e8ee82-27cf-4fa6-b189-66e6e10e2177",
   "metadata": {
    "pycharm": {
     "name": "#%%\n"
    }
   },
   "outputs": [],
   "source": [
    "env = environments.create(env_name, episode_length=episode_length)"
   ]
  },
  {
   "cell_type": "code",
   "execution_count": null,
   "id": "84bd809c-0127-4241-9556-9e81e550bbd2",
   "metadata": {
    "pycharm": {
     "name": "#%%\n"
    }
   },
   "outputs": [],
   "source": [
    "play_step_fn = jax.pmap(\n",
    "    functools.partial(agent.play_step_fn, env=env, deterministic=True, evaluation=True),\n",
    "    axis_name=\"p\",\n",
    "    devices=devices[:1],\n",
    ")"
   ]
  },
  {
   "cell_type": "code",
   "execution_count": null,
   "id": "2954be53-ffa5-42cf-8696-7f40f139edaf",
   "metadata": {
    "pycharm": {
     "name": "#%%\n"
    }
   },
   "outputs": [],
   "source": [
    "training_state = best_training_state"
   ]
  },
  {
   "cell_type": "code",
   "execution_count": null,
   "id": "14026ff2-e7f2-46eb-91d5-6e7394136e96",
   "metadata": {
    "pycharm": {
     "name": "#%%\n"
    }
   },
   "outputs": [],
   "source": [
    "%%time\n",
    "rollout = []\n",
    "\n",
    "rng = jax.random.PRNGKey(seed=1)\n",
    "env_state = jax.jit(env.reset)(rng=rng)\n",
    "\n",
    "training_state, env_state = jax.tree_map(\n",
    "    lambda x: jnp.expand_dims(x, axis=0), (training_state, env_state)\n",
    ")\n",
    "\n",
    "for _ in range(episode_length):\n",
    "\n",
    "    rollout.append(env_state)\n",
    "    env_state, training_state, _ = play_step_fn(env_state, training_state)\n",
    "\n",
    "print(f\"The trajectory of this individual contains {len(rollout)} transitions.\")"
   ]
  },
  {
   "cell_type": "code",
   "execution_count": null,
   "id": "f5701084-e876-43f8-8de0-4216361ef5b4",
   "metadata": {
    "pycharm": {
     "name": "#%%\n"
    }
   },
   "outputs": [],
   "source": [
    "rollout = [\n",
    "    jax.tree_map(lambda x: jax.device_put(x[0], jax.devices(\"cpu\")[0]), env_state)\n",
    "    for env_state in rollout\n",
    "]"
   ]
  },
  {
   "cell_type": "code",
   "execution_count": null,
   "id": "85bb7556-37bb-4a20-88b3-28b298c8b0a9",
   "metadata": {
    "pycharm": {
     "name": "#%%\n"
    }
   },
   "outputs": [],
   "source": [
    "HTML(html.render(env.sys, [s.qp for s in rollout[:episode_length]]))"
   ]
  }
 ],
 "metadata": {
  "kernelspec": {
   "display_name": "Python 3.9.2 64-bit ('3.9.2')",
   "language": "python",
   "name": "python3"
  },
  "language_info": {
   "codemirror_mode": {
    "name": "ipython",
    "version": 3
   },
   "file_extension": ".py",
   "mimetype": "text/x-python",
   "name": "python",
   "nbconvert_exporter": "python",
   "pygments_lexer": "ipython3",
   "version": "3.9.2"
  },
  "vscode": {
   "interpreter": {
    "hash": "1508da3da994e8b4133db52fbfc99c200ce19b8717cb4612fe84174533968534"
   }
  }
 },
 "nbformat": 4,
 "nbformat_minor": 5
}
