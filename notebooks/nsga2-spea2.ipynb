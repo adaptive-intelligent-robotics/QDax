{
 "cells": [
  {
   "cell_type": "markdown",
   "metadata": {},
   "source": [
    "# Traditional MO Genetic Algorithms (NSGA2 & SPEA2) on Rastrigin "
   ]
  },
  {
   "cell_type": "code",
   "execution_count": null,
   "metadata": {},
   "outputs": [],
   "source": [
    "%load_ext autoreload\n",
    "%autoreload 2"
   ]
  },
  {
   "cell_type": "code",
   "execution_count": null,
   "metadata": {},
   "outputs": [],
   "source": [
    "import jax.numpy as jnp\n",
    "import jax\n",
    "\n",
    "from typing import Tuple\n",
    "\n",
    "import matplotlib.pyplot as plt\n",
    "\n",
    "import time\n",
    "\n",
    "from functools import partial\n",
    "\n",
    "\n",
    "from qdax.core.nsga2 import (\n",
    "    NSGA2\n",
    ")\n",
    "from qdax.core.spea2 import (\n",
    "    SPEA2\n",
    ")\n",
    "from qdax.core.genetic_algorithm import GeneticAlgorithm\n",
    "\n",
    "from qdax.core.emitters.mutation_operators import (\n",
    "    polynomial_crossover, \n",
    "    polynomial_mutation\n",
    ")\n",
    "from qdax.core.emitters.standard_emitters import MixingEmitter\n",
    "from qdax.utils.pareto_front import compute_pareto_front\n",
    "from qdax.utils.plotting import plot_global_pareto_front\n",
    "\n",
    "from qdax.utils.pareto_front import compute_pareto_front\n",
    "from qdax.utils.plotting import plot_global_pareto_front\n",
    "from qdax.utils.metrics import default_ga_metrics\n",
    "\n",
    "from qdax.types import Genotype, Fitness, Descriptor"
   ]
  },
  {
   "cell_type": "code",
   "execution_count": null,
   "metadata": {},
   "outputs": [],
   "source": [
    "def rastrigin_scorer(\n",
    "    genotypes: Genotype, base_lag: int, lag: int\n",
    ") -> Tuple[Fitness, Descriptor]:\n",
    "    \"\"\"\n",
    "    Rastrigin Scorer with first two dimensions as descriptors\n",
    "    \"\"\"\n",
    "    descriptors = genotypes[:, :2]\n",
    "    f1 = -(\n",
    "        10 * genotypes.shape[1]\n",
    "        + jnp.sum(\n",
    "            (genotypes - base_lag) ** 2\n",
    "            - 10 * jnp.cos(2 * jnp.pi * (genotypes - base_lag)),\n",
    "            axis=1,\n",
    "        )\n",
    "    )\n",
    "\n",
    "    f2 = -(\n",
    "        10 * genotypes.shape[1]\n",
    "        + jnp.sum(\n",
    "            (genotypes - lag) ** 2 - 10 * jnp.cos(2 * jnp.pi * (genotypes - lag)),\n",
    "            axis=1,\n",
    "        )\n",
    "    )\n",
    "    scores = jnp.stack([f1, f2], axis=-1)\n",
    "\n",
    "    return scores, descriptors\n"
   ]
  },
  {
   "cell_type": "code",
   "execution_count": null,
   "metadata": {},
   "outputs": [],
   "source": []
  },
  {
   "cell_type": "code",
   "execution_count": null,
   "metadata": {},
   "outputs": [],
   "source": [
    "# Parameters\n",
    "population_size = 1000\n",
    "num_iterations = 1000\n",
    "proportion_mutation = 0.80\n",
    "minval, maxval = -5.12, 5.12\n",
    "batch_size = 100\n",
    "genotype_dim = 6\n",
    "lag, base_lag = 2.2, 0\n",
    "num_neighbours=1 # for spea2\n",
    "\n",
    "# Mutation & Crossover\n",
    "crossover_function = partial(\n",
    "    polynomial_crossover, \n",
    "    proportion_var_to_change=0.5,\n",
    ")\n",
    "\n",
    "mutation_function = partial(\n",
    "    polynomial_mutation, \n",
    "    proportion_to_mutate=0.5, \n",
    "    eta=0.05, \n",
    "    minval=minval, \n",
    "    maxval=maxval\n",
    ")\n",
    "\n",
    "# Define the emitter\n",
    "mixing_emitter = MixingEmitter(\n",
    "    mutation_fn=mutation_function, \n",
    "    variation_fn=crossover_function, \n",
    "    variation_percentage=1-proportion_mutation, \n",
    "    batch_size=batch_size\n",
    ")\n",
    "\n",
    "# Scoring function\n",
    "scoring_function = partial(\n",
    "    rastrigin_scorer,\n",
    "    lag=lag,\n",
    "    base_lag=base_lag\n",
    ")\n",
    "\n",
    "def scoring_fn(x, random_key):\n",
    "    return scoring_function(x)[0], {}, random_key\n",
    "\n",
    "# Initialize\n",
    "random_key = jax.random.PRNGKey(0)\n",
    "random_key, subkey = jax.random.split(random_key)\n",
    "init_genotypes = jax.random.uniform(\n",
    "    subkey, (batch_size, genotype_dim), minval=minval, maxval=maxval, dtype=jnp.float32\n",
    ")"
   ]
  },
  {
   "cell_type": "markdown",
   "metadata": {},
   "source": [
    "## NSGA2"
   ]
  },
  {
   "cell_type": "code",
   "execution_count": null,
   "metadata": {},
   "outputs": [],
   "source": []
  },
  {
   "cell_type": "code",
   "execution_count": null,
   "metadata": {},
   "outputs": [],
   "source": [
    "# instantitiate nsga2\n",
    "nsga2 = NSGA2(\n",
    "    scoring_function=scoring_fn,\n",
    "    emitter=mixing_emitter,\n",
    "    metrics_function=default_ga_metrics\n",
    ")\n",
    "\n",
    "# init nsga2\n",
    "repertoire, emitter_state, random_key = nsga2.init(\n",
    "    init_genotypes,\n",
    "    population_size,\n",
    "    random_key\n",
    ")"
   ]
  },
  {
   "cell_type": "code",
   "execution_count": null,
   "metadata": {},
   "outputs": [],
   "source": [
    "%%time\n",
    "\n",
    "# run optimization loop\n",
    "(repertoire, emitter_state, random_key), _ = jax.lax.scan(\n",
    "    nsga2.scan_update, (repertoire, emitter_state, random_key), (), length=num_iterations\n",
    ")"
   ]
  },
  {
   "cell_type": "code",
   "execution_count": null,
   "metadata": {},
   "outputs": [],
   "source": [
    "fig, ax = plt.subplots(figsize=(6, 6))\n",
    "pareto_bool = compute_pareto_front(repertoire.fitnesses)\n",
    "plot_global_pareto_front(repertoire.fitnesses[pareto_bool], ax=ax)\n",
    "ax.set_title('NSGA2')\n",
    "plt.show()"
   ]
  },
  {
   "cell_type": "markdown",
   "metadata": {},
   "source": [
    "## SPEA2"
   ]
  },
  {
   "cell_type": "code",
   "execution_count": null,
   "metadata": {},
   "outputs": [],
   "source": [
    "# instantitiate spea2\n",
    "spea2 = SPEA2(\n",
    "    scoring_function=scoring_fn,\n",
    "    emitter=mixing_emitter,\n",
    "    metrics_function=default_ga_metrics\n",
    ")\n",
    "\n",
    "# init spea2\n",
    "repertoire, emitter_state, random_key = spea2.init(\n",
    "    init_genotypes,\n",
    "    population_size,\n",
    "    num_neighbours,\n",
    "    random_key\n",
    ")"
   ]
  },
  {
   "cell_type": "code",
   "execution_count": null,
   "metadata": {},
   "outputs": [],
   "source": [
    "%%time\n",
    "\n",
    "# run optimization loop\n",
    "(repertoire, emitter_state, random_key), _ = jax.lax.scan(\n",
    "    spea2.scan_update, (repertoire, emitter_state, random_key), (), length=num_iterations\n",
    ")"
   ]
  },
  {
   "cell_type": "code",
   "execution_count": null,
   "metadata": {},
   "outputs": [],
   "source": [
    "fig, ax = plt.subplots(figsize=(6, 6))\n",
    "pareto_bool = compute_pareto_front(repertoire.fitnesses)\n",
    "plot_global_pareto_front(repertoire.fitnesses[pareto_bool], ax=ax)\n",
    "ax.set_title('SPEA2')\n",
    "plt.show()"
   ]
  },
  {
   "cell_type": "code",
   "execution_count": null,
   "metadata": {},
   "outputs": [],
   "source": []
  },
  {
   "cell_type": "code",
   "execution_count": null,
   "metadata": {},
   "outputs": [],
   "source": []
  },
  {
   "cell_type": "code",
   "execution_count": null,
   "metadata": {},
   "outputs": [],
   "source": []
  },
  {
   "cell_type": "code",
   "execution_count": null,
   "metadata": {},
   "outputs": [],
   "source": []
  }
 ],
 "metadata": {
  "interpreter": {
   "hash": "a5f11f0c88ac347de253fd12f7bdd97be5b86afe71b01b860214a94915ded25a"
  },
  "kernelspec": {
   "display_name": "Python 3 (ipykernel)",
   "language": "python",
   "name": "python3"
  },
  "language_info": {
   "codemirror_mode": {
    "name": "ipython",
    "version": 3
   },
   "file_extension": ".py",
   "mimetype": "text/x-python",
   "name": "python",
   "nbconvert_exporter": "python",
   "pygments_lexer": "ipython3",
   "version": "3.8.13"
  }
 },
 "nbformat": 4,
 "nbformat_minor": 2
}
