{
 "cells": [
  {
   "cell_type": "markdown",
   "metadata": {},
   "source": [
    "# Traditional MO Genetic Algorithms (NSGA2 & SPEA2) on Rastrigin "
   ]
  },
  {
   "cell_type": "code",
   "execution_count": 2,
   "metadata": {},
   "outputs": [
    {
     "ename": "ModuleNotFoundError",
     "evalue": "No module named 'parl'",
     "output_type": "error",
     "traceback": [
      "\u001b[0;31m---------------------------------------------------------------------------\u001b[0m",
      "\u001b[0;31mModuleNotFoundError\u001b[0m                       Traceback (most recent call last)",
      "Input \u001b[0;32mIn [2]\u001b[0m, in \u001b[0;36m<cell line: 11>\u001b[0;34m()\u001b[0m\n\u001b[1;32m      6\u001b[0m \u001b[38;5;28;01mimport\u001b[39;00m \u001b[38;5;21;01mtime\u001b[39;00m\n\u001b[1;32m      8\u001b[0m \u001b[38;5;28;01mfrom\u001b[39;00m \u001b[38;5;21;01mfunctools\u001b[39;00m \u001b[38;5;28;01mimport\u001b[39;00m partial\n\u001b[0;32m---> 11\u001b[0m \u001b[38;5;28;01mfrom\u001b[39;00m \u001b[38;5;21;01mqdax\u001b[39;00m\u001b[38;5;21;01m.\u001b[39;00m\u001b[38;5;21;01mcore\u001b[39;00m\u001b[38;5;21;01m.\u001b[39;00m\u001b[38;5;21;01mnsga2\u001b[39;00m \u001b[38;5;28;01mimport\u001b[39;00m (\n\u001b[1;32m     12\u001b[0m     run_nsga2\n\u001b[1;32m     13\u001b[0m )\n\u001b[1;32m     14\u001b[0m \u001b[38;5;28;01mfrom\u001b[39;00m \u001b[38;5;21;01mqdax\u001b[39;00m\u001b[38;5;21;01m.\u001b[39;00m\u001b[38;5;21;01mcore\u001b[39;00m\u001b[38;5;21;01m.\u001b[39;00m\u001b[38;5;21;01mspea2\u001b[39;00m \u001b[38;5;28;01mimport\u001b[39;00m (\n\u001b[1;32m     15\u001b[0m     run_spea2\n\u001b[1;32m     16\u001b[0m )\n\u001b[1;32m     18\u001b[0m \u001b[38;5;28;01mfrom\u001b[39;00m \u001b[38;5;21;01mqdax\u001b[39;00m\u001b[38;5;21;01m.\u001b[39;00m\u001b[38;5;21;01memitters\u001b[39;00m\u001b[38;5;21;01m.\u001b[39;00m\u001b[38;5;21;01mmutation_operators\u001b[39;00m \u001b[38;5;28;01mimport\u001b[39;00m (\n\u001b[1;32m     19\u001b[0m     polynomial_crossover_function, \n\u001b[1;32m     20\u001b[0m     polynomial_mutation_function\n\u001b[1;32m     21\u001b[0m )\n",
      "File \u001b[0;32m/app/qdax/core/nsga2.py:11\u001b[0m, in \u001b[0;36m<module>\u001b[0;34m\u001b[0m\n\u001b[1;32m      8\u001b[0m \u001b[38;5;28;01mfrom\u001b[39;00m \u001b[38;5;21;01mjax\u001b[39;00m \u001b[38;5;28;01mimport\u001b[39;00m jit\n\u001b[1;32m      9\u001b[0m \u001b[38;5;28;01mfrom\u001b[39;00m \u001b[38;5;21;01mjax\u001b[39;00m\u001b[38;5;21;01m.\u001b[39;00m\u001b[38;5;21;01mlax\u001b[39;00m \u001b[38;5;28;01mimport\u001b[39;00m scan, while_loop\n\u001b[0;32m---> 11\u001b[0m \u001b[38;5;28;01mfrom\u001b[39;00m \u001b[38;5;21;01mparl\u001b[39;00m\u001b[38;5;21;01m.\u001b[39;00m\u001b[38;5;21;01mtypes\u001b[39;00m \u001b[38;5;28;01mimport\u001b[39;00m Genotype, Mask, RNGKey, Scores\n\u001b[1;32m     12\u001b[0m \u001b[38;5;28;01mfrom\u001b[39;00m \u001b[38;5;21;01mparl\u001b[39;00m\u001b[38;5;21;01m.\u001b[39;00m\u001b[38;5;21;01mutils\u001b[39;00m\u001b[38;5;21;01m.\u001b[39;00m\u001b[38;5;21;01mevo_utils\u001b[39;00m \u001b[38;5;28;01mimport\u001b[39;00m Solutions, init_population, sample_in_population\n\u001b[1;32m     13\u001b[0m \u001b[38;5;28;01mfrom\u001b[39;00m \u001b[38;5;21;01mparl\u001b[39;00m\u001b[38;5;21;01m.\u001b[39;00m\u001b[38;5;21;01mutils\u001b[39;00m\u001b[38;5;21;01m.\u001b[39;00m\u001b[38;5;21;01mpareto_front\u001b[39;00m \u001b[38;5;28;01mimport\u001b[39;00m compute_masked_pareto_front\n",
      "\u001b[0;31mModuleNotFoundError\u001b[0m: No module named 'parl'"
     ]
    }
   ],
   "source": [
    "import jax.numpy as jnp\n",
    "import jax\n",
    "\n",
    "import matplotlib.pyplot as plt\n",
    "\n",
    "import time\n",
    "\n",
    "from functools import partial\n",
    "\n",
    "\n",
    "from qdax.core.nsga2 import (\n",
    "    run_nsga2\n",
    ")\n",
    "from qdax.core.spea2 import (\n",
    "    run_spea2\n",
    ")\n",
    "\n",
    "from qdax.emitters.mutation_operators import (\n",
    "    polynomial_crossover_function, \n",
    "    polynomial_mutation_function\n",
    ")\n",
    "from qdax.pareto_front import compute_pareto_front\n",
    "from qdax.utils.plotting import plot_global_pareto_front\n",
    "\n",
    "\n",
    "from qdax.basic_scorers import rastrigin_scorer\n",
    "from qdax.utils.pareto_front import compute_pareto_front\n",
    "from qdax.plotting import plot_global_pareto_front"
   ]
  },
  {
   "cell_type": "markdown",
   "metadata": {},
   "source": [
    "## NSGA2"
   ]
  },
  {
   "cell_type": "code",
   "execution_count": null,
   "metadata": {},
   "outputs": [],
   "source": [
    "# Parameters\n",
    "population_size = 1000\n",
    "num_iterations = 1000\n",
    "proportion_mutation = 0.80\n",
    "minval, maxval = -5.12, 5.12\n",
    "batch_size = 100\n",
    "genotype_dim = 6\n",
    "lag, base_lag = 2.2, 0 \n",
    "\n",
    "# Mutation & Crossover\n",
    "crossover_function = partial(\n",
    "    polynomial_crossover_function, \n",
    "    proportion_var_to_change=0.5,\n",
    ")\n",
    "\n",
    "mutation_function = partial(\n",
    "    polynomial_mutation_function, \n",
    "    proportion_to_mutate=0.5, \n",
    "    eta=0.05, \n",
    "    minval=minval, \n",
    "    maxval=maxval\n",
    ")\n",
    "\n",
    "# Scoring function\n",
    "scoring_function = partial(\n",
    "    rastrigin_scorer,\n",
    "    lag=lag,\n",
    "    base_lag=base_lag\n",
    ")\n",
    "scoring_fn = lambda x: scoring_function(x)[0]\n",
    "\n",
    "# Initialize\n",
    "key = jax.random.PRNGKey(0)\n",
    "key, sub_key = jax.random.split(key)\n",
    "init_genotypes = jax.random.uniform(\n",
    "    sub_key, (batch_size, genotype_dim), minval=minval, maxval=maxval, dtype=jnp.float32\n",
    ")"
   ]
  },
  {
   "cell_type": "code",
   "execution_count": null,
   "metadata": {},
   "outputs": [],
   "source": [
    "init_time = time.time()\n",
    "\n",
    "solutions = run_nsga2(\n",
    "    init_genotypes=init_genotypes,\n",
    "    random_key=key,\n",
    "    scoring_function=scoring_fn,\n",
    "    crossover_function=crossover_function,\n",
    "    mutation_function=mutation_function,\n",
    "    batch_size=batch_size,\n",
    "    crossover_percentage=1-proportion_mutation,\n",
    "    num_iterations=num_iterations,\n",
    "    population_size=population_size\n",
    ")\n",
    "\n",
    "duration = time.time() - init_time\n",
    "print(f'Duration: {duration:.2f}s')\n"
   ]
  },
  {
   "cell_type": "code",
   "execution_count": null,
   "metadata": {},
   "outputs": [],
   "source": [
    "fig, ax = plt.subplots(figsize=(6, 6))\n",
    "pareto_bool = compute_pareto_front(solutions.scores)\n",
    "plot_global_pareto_front(solutions.scores[pareto_bool], ax=ax)\n",
    "ax.set_title('NSGA2')\n",
    "plt.show()"
   ]
  },
  {
   "cell_type": "markdown",
   "metadata": {},
   "source": [
    "## SPEA2"
   ]
  },
  {
   "cell_type": "code",
   "execution_count": null,
   "metadata": {},
   "outputs": [],
   "source": [
    "init_time = time.time()\n",
    "\n",
    "solutions = run_spea2(\n",
    "    init_genotypes=init_genotypes,\n",
    "    random_key=key,\n",
    "    scoring_function=scoring_fn,\n",
    "    crossover_function=crossover_function,\n",
    "    mutation_function=mutation_function,\n",
    "    batch_size=batch_size,\n",
    "    crossover_percentage=1-proportion_mutation,\n",
    "    num_iterations=num_iterations,\n",
    "    population_size=population_size,\n",
    "    num_neighbours=1\n",
    ")\n",
    "\n",
    "duration = time.time() - init_time\n",
    "print(f'Duration: {duration:.2f}s')\n"
   ]
  },
  {
   "cell_type": "code",
   "execution_count": null,
   "metadata": {},
   "outputs": [],
   "source": [
    "\n",
    "fig, ax = plt.subplots(figsize=(6, 6))\n",
    "pareto_bool = compute_pareto_front(solutions.scores)\n",
    "plot_global_pareto_front(solutions.scores[pareto_bool], ax=ax)\n",
    "ax.set_title('SPEA2')\n",
    "plt.show()"
   ]
  },
  {
   "cell_type": "code",
   "execution_count": null,
   "metadata": {},
   "outputs": [],
   "source": []
  },
  {
   "cell_type": "code",
   "execution_count": null,
   "metadata": {},
   "outputs": [],
   "source": []
  }
 ],
 "metadata": {
  "interpreter": {
   "hash": "a5f11f0c88ac347de253fd12f7bdd97be5b86afe71b01b860214a94915ded25a"
  },
  "kernelspec": {
   "display_name": "Python 3 (ipykernel)",
   "language": "python",
   "name": "python3"
  },
  "language_info": {
   "codemirror_mode": {
    "name": "ipython",
    "version": 3
   },
   "file_extension": ".py",
   "mimetype": "text/x-python",
   "name": "python",
   "nbconvert_exporter": "python",
   "pygments_lexer": "ipython3",
   "version": "3.8.13"
  }
 },
 "nbformat": 4,
 "nbformat_minor": 2
}
