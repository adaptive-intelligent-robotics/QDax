{
 "cells": [
  {
   "cell_type": "markdown",
   "metadata": {},
   "source": [
    "###### [![Open In Colab](https://colab.research.google.com/assets/colab-badge.svg)](https://colab.research.google.com/github/adaptive-intelligent-robotics/QDax/blob/main/notebooks/cmamega_example.ipynb)"
   ]
  },
  {
   "cell_type": "markdown",
   "metadata": {},
   "source": [
    "# Optimizing with CMA-ME in Jax\n",
    "\n",
    "This notebook shows how to use QDax to find diverse and performing parameters on the Rastrigin problem with [CMA-ME](https://arxiv.org/pdf/1912.02400.pdf). It can be run locally or on Google Colab. We recommand to use a GPU. This notebook will show:\n",
    "\n",
    "- how to define the problem\n",
    "- how to create a CMA-ME emitter\n",
    "- how to create a Map-elites instance\n",
    "- which functions must be defined before training\n",
    "- how to launch a certain number of training steps\n",
    "- how to visualise the optimization process"
   ]
  },
  {
   "cell_type": "code",
   "execution_count": null,
   "metadata": {},
   "outputs": [],
   "source": [
    "%load_ext autoreload\n",
    "%autoreload 2"
   ]
  },
  {
   "cell_type": "code",
   "execution_count": null,
   "metadata": {},
   "outputs": [],
   "source": [
    "import math\n",
    "\n",
    "import jax \n",
    "import jax.numpy as jnp\n",
    "\n",
    "try:\n",
    "    import flax\n",
    "except:\n",
    "    !pip install --no-deps git+https://github.com/google/flax.git@v0.4.1 |tail -n 1\n",
    "    import flax\n",
    "\n",
    "try:\n",
    "    import chex\n",
    "except:\n",
    "    !pip install --no-deps git+https://github.com/deepmind/chex.git@v0.1.3 |tail -n 1\n",
    "    import chex\n",
    "    \n",
    "try:\n",
    "    import qdax\n",
    "except:\n",
    "    !pip install --no-deps git+https://github.com/adaptive-intelligent-robotics/QDax@main |tail -n 1\n",
    "    import qdax\n",
    "\n",
    "from qdax.core.map_elites import MAPElites\n",
    "from qdax.core.emitters.cma_emitter import CMAEmitter\n",
    "from qdax.core.emitters.cma_opt_emitter import CMAOptimizingEmitter\n",
    "from qdax.core.emitters.cma_rnd_emitter import CMARndEmitter\n",
    "from qdax.core.emitters.cma_multi_emitter import CMAPoolEmitter\n",
    "from qdax.core.emitters.standard_emitters import MixingEmitter\n",
    "from qdax.core.containers.mapelites_repertoire import compute_euclidean_centroids, MapElitesRepertoire\n",
    "# from qdax.utils.plotting import plot_map_elites_results\n",
    "from qdax.utils.plotting import plot_multidimensional_map_elites_grid\n",
    "\n",
    "from typing import Dict"
   ]
  },
  {
   "cell_type": "code",
   "execution_count": null,
   "metadata": {},
   "outputs": [],
   "source": [
    "# from jax.config import config\n",
    "\n",
    "# config.update('jax_disable_jit', True)"
   ]
  },
  {
   "cell_type": "markdown",
   "metadata": {},
   "source": [
    "## Set the hyperparameters\n",
    "\n",
    "Most hyperparameters are similar to those introduced in [Differentiable Quality Diversity paper](https://arxiv.org/pdf/2106.03894.pdf)."
   ]
  },
  {
   "cell_type": "code",
   "execution_count": null,
   "metadata": {},
   "outputs": [],
   "source": [
    "#@title QD Training Definitions Fields\n",
    "#@markdown ---\n",
    "num_iterations = 70000 #70000 #10000\n",
    "num_dimensions = 100 #1000 #@param {type:\"integer\"} # try 20 and 100\n",
    "# num_centroids = 10000 #@param {type:\"integer\"}\n",
    "grid_shape = (500, 500) # (500, 500) \n",
    "batch_size = 36 #36 #@param {type:\"integer\"}\n",
    "sigma_g = .5 #@param {type:\"number\"}\n",
    "minval = -5.12 #@param {type:\"number\"}\n",
    "maxval = 5.12 #@param {type:\"number\"}\n",
    "min_bd = -5.12 * 0.5 * num_dimensions #@param {type:\"number\"}\n",
    "max_bd = 5.12 * 0.5 * num_dimensions #@param {type:\"number\"}\n",
    "emitter_type = \"rnd\" # \"opt\", \"imp\", \"rnd\"\n",
    "pool_size = 15\n",
    "opt_function = \"sphere\" # \"rastrigin\", \"sphere\"\n",
    "#@markdown ---"
   ]
  },
  {
   "cell_type": "markdown",
   "metadata": {},
   "source": [
    "## Defines the scoring function: rastrigin or sphere"
   ]
  },
  {
   "cell_type": "code",
   "execution_count": null,
   "metadata": {},
   "outputs": [],
   "source": [
    "def rastrigin_scoring(x: jnp.ndarray):\n",
    "    first_term = 10 * x.shape[-1]\n",
    "    second_term = jnp.sum((x + minval * 0.4) ** 2 - 10 * jnp.cos(2 * jnp.pi * (x + minval * 0.4)))\n",
    "    return -(first_term + second_term)\n",
    "\n",
    "def sphere_scoring(x: jnp.ndarray):\n",
    "    return -jnp.sum((x + minval * 0.4) * (x + minval * 0.4), axis=-1)\n",
    "\n",
    "if opt_function == \"sphere\":\n",
    "    fitness_scoring = sphere_scoring\n",
    "elif opt_function == \"rastrigin\":\n",
    "    fitness_scoring = rastrigin_scoring\n",
    "else:\n",
    "    raise Exception(\"Invalid opt function name given\")\n",
    "\n",
    "def clip(x: jnp.ndarray):\n",
    "    in_bound = (x <= maxval) * (x >= minval)\n",
    "    return jnp.where(\n",
    "        condition=in_bound,\n",
    "        x=x,\n",
    "        y=(maxval / x)\n",
    "    )\n",
    "\n",
    "def _behavior_descriptor_1(x: jnp.ndarray):\n",
    "    return jnp.sum(clip(x[:x.shape[-1]//2]))\n",
    "\n",
    "def _behavior_descriptor_2(x: jnp.ndarray):\n",
    "    return jnp.sum(clip(x[x.shape[-1]//2:]))\n",
    "\n",
    "def _behavior_descriptors(x: jnp.ndarray):\n",
    "    return jnp.array([_behavior_descriptor_1(x), _behavior_descriptor_2(x)])"
   ]
  },
  {
   "cell_type": "code",
   "execution_count": null,
   "metadata": {},
   "outputs": [],
   "source": [
    "def scoring_function(x):\n",
    "    scores, descriptors = fitness_scoring(x), _behavior_descriptors(x)\n",
    "    return scores, descriptors, {}\n",
    "\n",
    "def scoring_fn(x, random_key):\n",
    "    fitnesses, descriptors, extra_scores = jax.vmap(scoring_function)(x)\n",
    "    return fitnesses, descriptors, extra_scores, random_key"
   ]
  },
  {
   "cell_type": "markdown",
   "metadata": {},
   "source": [
    "## Define the metrics that will be used"
   ]
  },
  {
   "cell_type": "code",
   "execution_count": null,
   "metadata": {},
   "outputs": [],
   "source": [
    "worst_objective = fitness_scoring(-jnp.ones(num_dimensions) * 5.12)\n",
    "# worst_objective = rastrigin_scoring(jnp.zeros(num_dimensions))\n",
    "best_objective = fitness_scoring(jnp.ones(num_dimensions) * 5.12 * 0.4)\n",
    "\n",
    "num_centroids = math.prod(grid_shape)\n",
    "\n",
    "def metrics_fn(repertoire: MapElitesRepertoire) -> Dict[str, jnp.ndarray]:\n",
    "\n",
    "    # get metrics\n",
    "    grid_empty = repertoire.fitnesses == -jnp.inf\n",
    "    adjusted_fitness = (\n",
    "        (repertoire.fitnesses - worst_objective) * 100 / (best_objective - worst_objective)\n",
    "    )\n",
    "    qd_score = jnp.sum(adjusted_fitness, where=~grid_empty) # / num_centroids\n",
    "    coverage = 100 * jnp.mean(1.0 - grid_empty)\n",
    "    max_fitness = jnp.max(adjusted_fitness)\n",
    "    return {\"qd_score\": qd_score, \"max_fitness\": max_fitness, \"coverage\": coverage}"
   ]
  },
  {
   "cell_type": "markdown",
   "metadata": {},
   "source": [
    "## Define the initial population, the emitter and the MAP Elites instance\n",
    "\n",
    "The emitter is defined using the CMAME emitter class. This emitter is given to a MAP-Elites instance to create an instance of the CMA-ME algorithm."
   ]
  },
  {
   "cell_type": "code",
   "execution_count": null,
   "metadata": {},
   "outputs": [],
   "source": [
    "random_key = jax.random.PRNGKey(0)\n",
    "initial_population = jax.random.uniform(random_key, shape=(batch_size, num_dimensions))\n",
    "\n",
    "centroids = compute_euclidean_centroids(\n",
    "    grid_shape=grid_shape,\n",
    "    minval=min_bd,\n",
    "    maxval=max_bd,\n",
    ")\n",
    "\n",
    "# Define emitter\n",
    "import functools\n",
    "from qdax.core.emitters.mutation_operators import isoline_variation\n",
    "variation_fn = functools.partial(\n",
    "    isoline_variation, iso_sigma=0.5, line_sigma=0.\n",
    ")\n",
    "mixing_emitter = MixingEmitter(\n",
    "    mutation_fn=None, \n",
    "    variation_fn=variation_fn, \n",
    "    variation_percentage=1.0, \n",
    "    batch_size=batch_size\n",
    ")\n",
    "\n",
    "emitter_kwargs = {\n",
    "    \"batch_size\": batch_size,\n",
    "    \"genotype_dim\": num_dimensions,\n",
    "    \"centroids\": centroids,\n",
    "    \"sigma_g\": sigma_g,\n",
    "    \"min_count\": 1,\n",
    "    \"max_count\": None,\n",
    "}\n",
    "\n",
    "if emitter_type == \"opt\":\n",
    "    emitter = CMAOptimizingEmitter(**emitter_kwargs)\n",
    "elif emitter_type == \"imp\":\n",
    "    emitter = CMAEmitter(**emitter_kwargs)\n",
    "elif emitter_type == \"rnd\":\n",
    "    emitter = CMARndEmitter(**emitter_kwargs)\n",
    "else:\n",
    "    raise Exception(\"Invalid emitter type\")\n",
    "\n",
    "# emitter = CMAOptimizingEmitter(\n",
    "# # emitter = CMAEmitter(\n",
    "# # emitter = CMARndEmitter(\n",
    "#     batch_size=batch_size,\n",
    "#     genotype_dim=num_dimensions,\n",
    "#     centroids=centroids,\n",
    "#     sigma_g=sigma_g,\n",
    "#     min_count=1,\n",
    "#     max_count=None,\n",
    "# )\n",
    "\n",
    "emitter = CMAPoolEmitter(\n",
    "    num_states=pool_size,\n",
    "    emitter=emitter\n",
    ")\n",
    "\n",
    "map_elites = MAPElites(\n",
    "    scoring_function=scoring_fn,\n",
    "    emitter=emitter,\n",
    "#     emitter=mixing_emitter,\n",
    "    metrics_function=metrics_fn\n",
    ")"
   ]
  },
  {
   "cell_type": "code",
   "execution_count": null,
   "metadata": {},
   "outputs": [],
   "source": [
    "repertoire, emitter_state, random_key = map_elites.init(initial_population, centroids, random_key)"
   ]
  },
  {
   "cell_type": "code",
   "execution_count": null,
   "metadata": {},
   "outputs": [],
   "source": [
    "%%time\n",
    "\n",
    "(repertoire, emitter_state, random_key,), metrics = jax.lax.scan(\n",
    "    map_elites.scan_update,\n",
    "    (repertoire, emitter_state, random_key),\n",
    "    (),\n",
    "    length=num_iterations,\n",
    ")"
   ]
  },
  {
   "cell_type": "code",
   "execution_count": null,
   "metadata": {},
   "outputs": [],
   "source": [
    "for k, v in metrics.items():\n",
    "    print(f\"{k} after {num_iterations * batch_size}: {v[-1]}\")"
   ]
  },
  {
   "cell_type": "code",
   "execution_count": null,
   "metadata": {},
   "outputs": [],
   "source": [
    "metrics"
   ]
  },
  {
   "cell_type": "code",
   "execution_count": null,
   "metadata": {},
   "outputs": [],
   "source": [
    "# #@title Visualization\n",
    "\n",
    "# # create the x-axis array\n",
    "# env_steps = jnp.arange(num_iterations) * batch_size\n",
    "\n",
    "# # create the plots and the grid\n",
    "# fig, axes = plot_map_elites_results(\n",
    "#     env_steps=env_steps, metrics=metrics, repertoire=repertoire, min_bd=min_bd, max_bd=max_bd\n",
    "# )"
   ]
  },
  {
   "cell_type": "code",
   "execution_count": null,
   "metadata": {},
   "outputs": [],
   "source": []
  },
  {
   "cell_type": "code",
   "execution_count": null,
   "metadata": {},
   "outputs": [],
   "source": []
  },
  {
   "cell_type": "code",
   "execution_count": null,
   "metadata": {},
   "outputs": [],
   "source": [
    "import matplotlib as mpl\n",
    "import matplotlib.cm as cm\n",
    "import matplotlib.pyplot as plt\n",
    "\n",
    "def plot_map_elites_results(\n",
    "    env_steps: jnp.ndarray,\n",
    "    metrics: Dict,\n",
    "    repertoire: MapElitesRepertoire,\n",
    "    min_bd: jnp.ndarray,\n",
    "    max_bd: jnp.ndarray,\n",
    "):\n",
    "    \"\"\"Plots three usual QD metrics, namely the coverage, the maximum fitness\n",
    "    and the QD-score, along the number of environment steps. This function also\n",
    "    plots a visualisation of the final map elites grid obtained. It ensures that\n",
    "    those plots are aligned together to give a simple and efficient visualisation\n",
    "    of an optimization process.\n",
    "\n",
    "    Args:\n",
    "        env_steps: the array containing the number of steps done in the environment.\n",
    "        metrics: a dictionary containing metrics from the optimizatoin process.\n",
    "        repertoire: the final repertoire obtained.\n",
    "        min_bd: the mimimal possible values for the bd.\n",
    "        max_bd: the maximal possible values for the bd.\n",
    "\n",
    "    Returns:\n",
    "        A figure and axes with the plots of the metrics and visualisation of the grid.\n",
    "    \"\"\"\n",
    "    # Customize matplotlib params\n",
    "    font_size = 16\n",
    "    params = {\n",
    "        \"axes.labelsize\": font_size,\n",
    "        \"axes.titlesize\": font_size,\n",
    "        \"legend.fontsize\": font_size,\n",
    "        \"xtick.labelsize\": font_size,\n",
    "        \"ytick.labelsize\": font_size,\n",
    "        \"text.usetex\": False,\n",
    "        \"axes.titlepad\": 10,\n",
    "    }\n",
    "\n",
    "    mpl.rcParams.update(params)\n",
    "\n",
    "    # Visualize the training evolution and final repertoire\n",
    "    fig, axes = plt.subplots(nrows=1, ncols=3, figsize=(40, 10))\n",
    "\n",
    "    # env_steps = jnp.arange(num_iterations) * episode_length * batch_size\n",
    "\n",
    "    axes[0].plot(env_steps, metrics[\"coverage\"])\n",
    "    axes[0].set_xlabel(\"Environment steps\")\n",
    "    axes[0].set_ylabel(\"Coverage in %\")\n",
    "    axes[0].set_title(\"Coverage evolution during training\")\n",
    "    axes[0].set_aspect(0.95 / axes[0].get_data_ratio(), adjustable=\"box\")\n",
    "\n",
    "    axes[1].plot(env_steps, metrics[\"max_fitness\"])\n",
    "    axes[1].set_xlabel(\"Environment steps\")\n",
    "    axes[1].set_ylabel(\"Maximum fitness\")\n",
    "    axes[1].set_title(\"Maximum fitness evolution during training\")\n",
    "    axes[1].set_aspect(0.95 / axes[1].get_data_ratio(), adjustable=\"box\")\n",
    "\n",
    "    axes[2].plot(env_steps, metrics[\"qd_score\"])\n",
    "    axes[2].set_xlabel(\"Environment steps\")\n",
    "    axes[2].set_ylabel(\"QD Score\")\n",
    "    axes[2].set_title(\"QD Score evolution during training\")\n",
    "    axes[2].set_aspect(0.95 / axes[2].get_data_ratio(), adjustable=\"box\")\n",
    "\n",
    "#     _, axes = plot_2d_map_elites_repertoire(\n",
    "#         centroids=repertoire.centroids,\n",
    "#         repertoire_fitnesses=repertoire.fitnesses,\n",
    "#         minval=min_bd,\n",
    "#         maxval=max_bd,\n",
    "#         repertoire_descriptors=repertoire.descriptors,\n",
    "#         ax=axes[3],\n",
    "#     )\n",
    "\n",
    "    return fig, axes"
   ]
  },
  {
   "cell_type": "code",
   "execution_count": null,
   "metadata": {},
   "outputs": [],
   "source": [
    "env_steps = jnp.arange(num_iterations) * batch_size\n",
    "\n",
    "fig, axes = plot_map_elites_results(\n",
    "    env_steps=env_steps, metrics=metrics, repertoire=repertoire, min_bd=min_bd, max_bd=max_bd\n",
    ")\n",
    "\n",
    "figname = \"cma_me_\" + opt_function + \"_\" + str(num_dimensions) + \"_\" + emitter_type + \".png\"\n",
    "print(\"Save figure in: \", figname)\n",
    "plt.savefig(figname)"
   ]
  },
  {
   "cell_type": "code",
   "execution_count": null,
   "metadata": {},
   "outputs": [],
   "source": [
    "# fig, axes = plot_multidimensional_map_elites_grid(\n",
    "#     repertoire=repertoire,\n",
    "#     minval=jnp.array([min_bd, min_bd]),\n",
    "#     maxval=jnp.array([max_bd, max_bd]),\n",
    "#     grid_shape=grid_shape,\n",
    "# )"
   ]
  },
  {
   "cell_type": "code",
   "execution_count": null,
   "metadata": {},
   "outputs": [],
   "source": []
  },
  {
   "cell_type": "code",
   "execution_count": null,
   "metadata": {},
   "outputs": [],
   "source": []
  },
  {
   "cell_type": "code",
   "execution_count": null,
   "metadata": {},
   "outputs": [],
   "source": []
  },
  {
   "cell_type": "code",
   "execution_count": null,
   "metadata": {},
   "outputs": [],
   "source": []
  },
  {
   "cell_type": "code",
   "execution_count": null,
   "metadata": {},
   "outputs": [],
   "source": []
  },
  {
   "cell_type": "code",
   "execution_count": null,
   "metadata": {},
   "outputs": [],
   "source": []
  },
  {
   "cell_type": "code",
   "execution_count": null,
   "metadata": {},
   "outputs": [],
   "source": []
  },
  {
   "cell_type": "code",
   "execution_count": null,
   "metadata": {},
   "outputs": [],
   "source": []
  },
  {
   "cell_type": "code",
   "execution_count": null,
   "metadata": {},
   "outputs": [],
   "source": []
  },
  {
   "cell_type": "code",
   "execution_count": null,
   "metadata": {},
   "outputs": [],
   "source": []
  },
  {
   "cell_type": "code",
   "execution_count": null,
   "metadata": {},
   "outputs": [],
   "source": []
  },
  {
   "cell_type": "code",
   "execution_count": null,
   "metadata": {},
   "outputs": [],
   "source": []
  },
  {
   "cell_type": "code",
   "execution_count": null,
   "metadata": {},
   "outputs": [],
   "source": []
  },
  {
   "cell_type": "code",
   "execution_count": null,
   "metadata": {},
   "outputs": [],
   "source": []
  },
  {
   "cell_type": "code",
   "execution_count": null,
   "metadata": {},
   "outputs": [],
   "source": []
  }
 ],
 "metadata": {
  "kernelspec": {
   "display_name": "Python 3 (ipykernel)",
   "language": "python",
   "name": "python3"
  },
  "language_info": {
   "codemirror_mode": {
    "name": "ipython",
    "version": 3
   },
   "file_extension": ".py",
   "mimetype": "text/x-python",
   "name": "python",
   "nbconvert_exporter": "python",
   "pygments_lexer": "ipython3",
   "version": "3.8.13"
  },
  "vscode": {
   "interpreter": {
    "hash": "9ae46cf6a59eb5e192bc4f27fbb5c33d8a30eb9acb43edbb510eeaf7c819ab64"
   }
  }
 },
 "nbformat": 4,
 "nbformat_minor": 2
}
