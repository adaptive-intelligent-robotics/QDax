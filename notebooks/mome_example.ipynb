{
 "cells": [
  {
   "cell_type": "markdown",
   "id": "a5e13ff6",
   "metadata": {},
   "source": [
    "# Example of running MOME on a simple Trigonometry problem"
   ]
  },
  {
   "cell_type": "code",
   "execution_count": 1,
   "id": "a555fcb0",
   "metadata": {},
   "outputs": [],
   "source": [
    "%load_ext autoreload\n",
    "%autoreload 2"
   ]
  },
  {
   "cell_type": "code",
   "execution_count": 2,
   "id": "af063418",
   "metadata": {},
   "outputs": [],
   "source": [
    "import jax.numpy as jnp\n",
    "import jax\n",
    "import time\n",
    "from typing import Tuple, Any\n",
    "\n",
    "from functools import partial\n",
    "\n",
    "from qdax.core.containers.repertoire import compute_cvt_centroids\n",
    "from qdax.core.containers.mome_repertoire import MOMERepertoire\n",
    "from qdax.core.mome import MOME, compute_moqd_metrics, add_init_metrics\n",
    "from qdax.core.emitters.mutation_operators import (\n",
    "    polynomial_mutation, \n",
    "    polynomial_crossover, \n",
    "    isoline_variation\n",
    ")\n",
    "from qdax.core.emitters.standard_emitters import MixingEmitter\n",
    "from qdax.utils.plotting import plot_2d_map_elites_grid, plot_mome_pareto_fronts\n",
    "\n",
    "import matplotlib.pyplot as plt\n",
    "\n",
    "from qdax.types import Fitness, Descriptor, RNGKey, Metrics, ExtraScores"
   ]
  },
  {
   "cell_type": "markdown",
   "id": "22495c16",
   "metadata": {},
   "source": [
    "## Define parameters"
   ]
  },
  {
   "cell_type": "code",
   "execution_count": 3,
   "id": "b96b5d07",
   "metadata": {},
   "outputs": [],
   "source": [
    "pareto_front_max_length = 50\n",
    "num_variables = 100\n",
    "num_iterations = 1000\n",
    "\n",
    "num_centroids = 64\n",
    "minval = -2\n",
    "maxval = 4\n",
    "proportion_to_mutate = 0.6\n",
    "eta = 1\n",
    "proportion_var_to_change = 0.5\n",
    "crossover_percentage = 1.\n",
    "batch_size = 100\n",
    "lag = 2.2\n",
    "base_lag = 0\n",
    "key = jax.random.PRNGKey(42)\n",
    "descriptor_mode=\"first\"\n",
    "grid_type = 'voronoi'"
   ]
  },
  {
   "cell_type": "markdown",
   "id": "c2850d54",
   "metadata": {},
   "source": [
    "## Define the scoring function"
   ]
  },
  {
   "cell_type": "code",
   "execution_count": 4,
   "id": "b5effe11",
   "metadata": {},
   "outputs": [],
   "source": [
    "def rastrigin_scorer(\n",
    "    genotypes: jnp.ndarray, base_lag: int, lag: int\n",
    ") -> Tuple[jnp.ndarray, jnp.ndarray]:\n",
    "    \"\"\"\n",
    "    Rastrigin Scorer with first two dimensions as descriptors\n",
    "    \"\"\"\n",
    "    descriptors = genotypes[:, :2]\n",
    "    f1 = -(\n",
    "        10 * genotypes.shape[1]\n",
    "        + jnp.sum(\n",
    "            (genotypes - base_lag) ** 2\n",
    "            - 10 * jnp.cos(2 * jnp.pi * (genotypes - base_lag)),\n",
    "            axis=1,\n",
    "        )\n",
    "    )\n",
    "\n",
    "    f2 = -(\n",
    "        10 * genotypes.shape[1]\n",
    "        + jnp.sum(\n",
    "            (genotypes - lag) ** 2 - 10 * jnp.cos(2 * jnp.pi * (genotypes - lag)),\n",
    "            axis=1,\n",
    "        )\n",
    "    )\n",
    "    scores = jnp.stack([f1, f2], axis=-1)\n",
    "\n",
    "    return scores, descriptors"
   ]
  },
  {
   "cell_type": "code",
   "execution_count": 5,
   "id": "231d273d",
   "metadata": {},
   "outputs": [],
   "source": [
    "scoring_function = partial(rastrigin_scorer, base_lag=base_lag, lag=lag)\n",
    "\n",
    "def scoring_fn(genotypes: jnp.ndarray, random_key: RNGKey) -> Tuple[Fitness, Descriptor, ExtraScores, RNGKey]:\n",
    "    fitnesses, descriptors = scoring_function(genotypes)\n",
    "    return fitnesses, descriptors, {}, random_key"
   ]
  },
  {
   "cell_type": "markdown",
   "id": "a4828ca8",
   "metadata": {},
   "source": [
    "## Define the emitter"
   ]
  },
  {
   "cell_type": "code",
   "execution_count": 6,
   "id": "ebf3bd27",
   "metadata": {},
   "outputs": [],
   "source": [
    "crossover_function = partial(\n",
    "    polynomial_crossover,\n",
    "    proportion_var_to_change=proportion_var_to_change\n",
    ")\n",
    "\n",
    "mutation_function = partial(\n",
    "    polynomial_mutation,\n",
    "    eta=eta,\n",
    "    minval=minval,\n",
    "    maxval=maxval,\n",
    "    proportion_to_mutate=proportion_to_mutate\n",
    ")\n",
    "\n",
    "line_crossover_function = partial(\n",
    "    isoline_variation,\n",
    "    iso_sigma=0.005,\n",
    "    line_sigma=0.05,\n",
    ")"
   ]
  },
  {
   "cell_type": "code",
   "execution_count": 7,
   "id": "fa465260",
   "metadata": {},
   "outputs": [],
   "source": [
    "# Define emitter\n",
    "#variation_fn = functools.partial(\n",
    "#    isoline_variation, iso_sigma=0.005, line_sigma=0.05\n",
    "#)\n",
    "mixing_emitter = MixingEmitter(\n",
    "    mutation_fn=mutation_function, \n",
    "    variation_fn=crossover_function, \n",
    "    variation_percentage=crossover_percentage, \n",
    "    batch_size=batch_size\n",
    ")"
   ]
  },
  {
   "cell_type": "markdown",
   "id": "c904664b",
   "metadata": {},
   "source": [
    "## Compute the centroids"
   ]
  },
  {
   "cell_type": "code",
   "execution_count": 8,
   "id": "76547c4c",
   "metadata": {},
   "outputs": [
    {
     "name": "stdout",
     "output_type": "stream",
     "text": [
      "Computed centroids in 3.61s\n",
      "CPU times: user 1min 4s, sys: 12.7 s, total: 1min 16s\n",
      "Wall time: 4.31 s\n"
     ]
    }
   ],
   "source": [
    "%%time\n",
    "\n",
    "init_time = time.time()\n",
    "centroids = compute_cvt_centroids(\n",
    "    num_descriptors=2, \n",
    "    num_init_cvt_samples=20000, \n",
    "    num_centroids=num_centroids, \n",
    "    minval=minval, \n",
    "    maxval=maxval\n",
    ")\n",
    "duration = time.time() - init_time\n",
    "print(f'Computed centroids in {duration:.2f}s')\n",
    "centroids = centroids[jnp.argsort(centroids[:, 0])]"
   ]
  },
  {
   "cell_type": "markdown",
   "id": "1ba0c0a0",
   "metadata": {},
   "source": [
    "## Define the metrics function"
   ]
  },
  {
   "cell_type": "code",
   "execution_count": 9,
   "id": "bdd9a2ca",
   "metadata": {},
   "outputs": [],
   "source": [
    "my_boolean = False\n",
    "if my_boolean:\n",
    "    x, y = jnp.arange(-5, 5, step=0.2), jnp.arange(-5, 5, step=0.2)\n",
    "\n",
    "    #Score\n",
    "    all_enumerations = jnp.array([[(x[i], y[j]) for j in range(len(x))] for i in range(len(x))])\n",
    "    all_enumerations = jnp.concatenate(all_enumerations)\n",
    "    all_scores = scorer.compute_scores(all_enumerations)\n",
    "    reference_point = jnp.array([jnp.min(all_scores[:, 0]), jnp.min(all_scores[:, 1])])\n",
    "else:\n",
    "    reference_point = jnp.array([ -150, -150])\n",
    "\n",
    "# how to compute metrics from a repertoire\n",
    "metrics_function = partial(\n",
    "    compute_moqd_metrics,\n",
    "    reference_point=reference_point\n",
    ")"
   ]
  },
  {
   "cell_type": "markdown",
   "id": "15936d15",
   "metadata": {},
   "source": [
    "## Define a MOME instance"
   ]
  },
  {
   "cell_type": "code",
   "execution_count": 13,
   "id": "07a0d1d9",
   "metadata": {},
   "outputs": [],
   "source": [
    "mome = MOME(\n",
    "    scoring_function=scoring_fn,\n",
    "    emitter=mixing_emitter,\n",
    "    metrics_function=metrics_function,\n",
    ")"
   ]
  },
  {
   "cell_type": "markdown",
   "id": "f7ec5a77",
   "metadata": {},
   "source": [
    "## Initiate a population and init the algorithm"
   ]
  },
  {
   "cell_type": "code",
   "execution_count": 14,
   "id": "89a46baa",
   "metadata": {},
   "outputs": [],
   "source": [
    "random_key = jax.random.PRNGKey(42)\n",
    "random_key, subkey = jax.random.split(random_key)\n",
    "init_genotypes = jax.random.uniform(\n",
    "    random_key, (batch_size, num_variables), minval=minval, maxval=maxval, dtype=jnp.float32\n",
    ")"
   ]
  },
  {
   "cell_type": "code",
   "execution_count": 15,
   "id": "c05cbf1e",
   "metadata": {},
   "outputs": [
    {
     "ename": "IndexError",
     "evalue": "tuple index out of range",
     "output_type": "error",
     "traceback": [
      "\u001b[0;31m---------------------------------------------------------------------------\u001b[0m",
      "\u001b[0;31mIndexError\u001b[0m                                Traceback (most recent call last)",
      "Input \u001b[0;32mIn [15]\u001b[0m, in \u001b[0;36m<cell line: 1>\u001b[0;34m()\u001b[0m\n\u001b[0;32m----> 1\u001b[0m repertoire, emitter_state, random_key \u001b[38;5;241m=\u001b[39m \u001b[43mmome\u001b[49m\u001b[38;5;241;43m.\u001b[39;49m\u001b[43minit\u001b[49m\u001b[43m(\u001b[49m\n\u001b[1;32m      2\u001b[0m \u001b[43m    \u001b[49m\u001b[43minit_genotypes\u001b[49m\u001b[43m,\u001b[49m\n\u001b[1;32m      3\u001b[0m \u001b[43m    \u001b[49m\u001b[43mcentroids\u001b[49m\u001b[43m,\u001b[49m\n\u001b[1;32m      4\u001b[0m \u001b[43m    \u001b[49m\u001b[43mpareto_front_max_length\u001b[49m\u001b[43m,\u001b[49m\n\u001b[1;32m      5\u001b[0m \u001b[43m    \u001b[49m\u001b[43mrandom_key\u001b[49m\n\u001b[1;32m      6\u001b[0m \u001b[43m)\u001b[49m\n",
      "    \u001b[0;31m[... skipping hidden 14 frame]\u001b[0m\n",
      "File \u001b[0;32m/app/qdax/core/mome.py:52\u001b[0m, in \u001b[0;36mMOME.init\u001b[0;34m(self, init_genotypes, centroids, pareto_front_max_length, random_key)\u001b[0m\n\u001b[1;32m     47\u001b[0m fitnesses, descriptors, extra_scores, random_key \u001b[38;5;241m=\u001b[39m \u001b[38;5;28mself\u001b[39m\u001b[38;5;241m.\u001b[39m_scoring_function(\n\u001b[1;32m     48\u001b[0m     init_genotypes, random_key\n\u001b[1;32m     49\u001b[0m )\n\u001b[1;32m     51\u001b[0m \u001b[38;5;66;03m# init the repertoire\u001b[39;00m\n\u001b[0;32m---> 52\u001b[0m repertoire \u001b[38;5;241m=\u001b[39m \u001b[43mMOMERepertoire\u001b[49m\u001b[38;5;241;43m.\u001b[39;49m\u001b[43minit\u001b[49m\u001b[43m(\u001b[49m\n\u001b[1;32m     53\u001b[0m \u001b[43m    \u001b[49m\u001b[43mgenotypes\u001b[49m\u001b[38;5;241;43m=\u001b[39;49m\u001b[43minit_genotypes\u001b[49m\u001b[43m,\u001b[49m\n\u001b[1;32m     54\u001b[0m \u001b[43m    \u001b[49m\u001b[43mfitnesses\u001b[49m\u001b[38;5;241;43m=\u001b[39;49m\u001b[43mfitnesses\u001b[49m\u001b[43m,\u001b[49m\n\u001b[1;32m     55\u001b[0m \u001b[43m    \u001b[49m\u001b[43mdescriptors\u001b[49m\u001b[38;5;241;43m=\u001b[39;49m\u001b[43mdescriptors\u001b[49m\u001b[43m,\u001b[49m\n\u001b[1;32m     56\u001b[0m \u001b[43m    \u001b[49m\u001b[43mcentroids\u001b[49m\u001b[38;5;241;43m=\u001b[39;49m\u001b[43mcentroids\u001b[49m\u001b[43m,\u001b[49m\n\u001b[1;32m     57\u001b[0m \u001b[43m    \u001b[49m\u001b[43mpareto_front_max_length\u001b[49m\u001b[38;5;241;43m=\u001b[39;49m\u001b[43mpareto_front_max_length\u001b[49m\u001b[43m,\u001b[49m\n\u001b[1;32m     58\u001b[0m \u001b[43m\u001b[49m\u001b[43m)\u001b[49m\n\u001b[1;32m     60\u001b[0m \u001b[38;5;66;03m# get initial state of the emitter\u001b[39;00m\n\u001b[1;32m     61\u001b[0m emitter_state, random_key \u001b[38;5;241m=\u001b[39m \u001b[38;5;28mself\u001b[39m\u001b[38;5;241m.\u001b[39m_emitter\u001b[38;5;241m.\u001b[39minit(\n\u001b[1;32m     62\u001b[0m     init_genotypes\u001b[38;5;241m=\u001b[39minit_genotypes, random_key\u001b[38;5;241m=\u001b[39mrandom_key\n\u001b[1;32m     63\u001b[0m )\n",
      "File \u001b[0;32m/app/qdax/core/containers/mome_repertoire.py:223\u001b[0m, in \u001b[0;36mMOMERepertoire.init\u001b[0;34m(cls, genotypes, fitnesses, descriptors, centroids, pareto_front_max_length)\u001b[0m\n\u001b[1;32m    215\u001b[0m repertoire \u001b[38;5;241m=\u001b[39m MOMERepertoire(  \u001b[38;5;66;03m# type: ignore\u001b[39;00m\n\u001b[1;32m    216\u001b[0m     genotypes\u001b[38;5;241m=\u001b[39mdefault_genotypes,\n\u001b[1;32m    217\u001b[0m     fitnesses\u001b[38;5;241m=\u001b[39mdefault_fitnesses,\n\u001b[1;32m    218\u001b[0m     descriptors\u001b[38;5;241m=\u001b[39mdefault_descriptors,\n\u001b[1;32m    219\u001b[0m     centroids\u001b[38;5;241m=\u001b[39mcentroids,\n\u001b[1;32m    220\u001b[0m )\n\u001b[1;32m    222\u001b[0m \u001b[38;5;66;03m# add first batch of individuals in the repertoire\u001b[39;00m\n\u001b[0;32m--> 223\u001b[0m new_repertoire \u001b[38;5;241m=\u001b[39m \u001b[43mrepertoire\u001b[49m\u001b[38;5;241;43m.\u001b[39;49m\u001b[43madd\u001b[49m\u001b[43m(\u001b[49m\u001b[43mgenotypes\u001b[49m\u001b[43m,\u001b[49m\u001b[43m \u001b[49m\u001b[43mdescriptors\u001b[49m\u001b[43m,\u001b[49m\u001b[43m \u001b[49m\u001b[43mfitnesses\u001b[49m\u001b[43m)\u001b[49m\n\u001b[1;32m    225\u001b[0m \u001b[38;5;28;01mreturn\u001b[39;00m new_repertoire\n",
      "    \u001b[0;31m[... skipping hidden 7 frame]\u001b[0m\n",
      "File \u001b[0;32m/app/qdax/core/containers/mome_repertoire.py:155\u001b[0m, in \u001b[0;36mMOMERepertoire.add\u001b[0;34m(self, batch_of_genotypes, batch_of_descriptors, batch_of_fitnesses)\u001b[0m\n\u001b[1;32m    152\u001b[0m     \u001b[38;5;66;03m# return new grid\u001b[39;00m\n\u001b[1;32m    153\u001b[0m     \u001b[38;5;28;01mreturn\u001b[39;00m carry, ()\n\u001b[0;32m--> 155\u001b[0m \u001b[38;5;28mself\u001b[39m, _ \u001b[38;5;241m=\u001b[39m \u001b[43mjax\u001b[49m\u001b[38;5;241;43m.\u001b[39;49m\u001b[43mlax\u001b[49m\u001b[38;5;241;43m.\u001b[39;49m\u001b[43mscan\u001b[49m\u001b[43m(\u001b[49m\n\u001b[1;32m    156\u001b[0m \u001b[43m    \u001b[49m\u001b[43m_add_one\u001b[49m\u001b[43m,\u001b[49m\n\u001b[1;32m    157\u001b[0m \u001b[43m    \u001b[49m\u001b[38;5;28;43mself\u001b[39;49m\u001b[43m,\u001b[49m\n\u001b[1;32m    158\u001b[0m \u001b[43m    \u001b[49m\u001b[43m(\u001b[49m\n\u001b[1;32m    159\u001b[0m \u001b[43m        \u001b[49m\u001b[43mbatch_of_genotypes\u001b[49m\u001b[43m,\u001b[49m\n\u001b[1;32m    160\u001b[0m \u001b[43m        \u001b[49m\u001b[43mbatch_of_descriptors\u001b[49m\u001b[43m,\u001b[49m\n\u001b[1;32m    161\u001b[0m \u001b[43m        \u001b[49m\u001b[43mbatch_of_fitnesses\u001b[49m\u001b[43m,\u001b[49m\n\u001b[1;32m    162\u001b[0m \u001b[43m        \u001b[49m\u001b[43mbatch_of_indices\u001b[49m\u001b[43m,\u001b[49m\n\u001b[1;32m    163\u001b[0m \u001b[43m    \u001b[49m\u001b[43m)\u001b[49m\u001b[43m,\u001b[49m\n\u001b[1;32m    164\u001b[0m \u001b[43m\u001b[49m\u001b[43m)\u001b[49m\n\u001b[1;32m    166\u001b[0m \u001b[38;5;28;01mreturn\u001b[39;00m \u001b[38;5;28mself\u001b[39m\n",
      "    \u001b[0;31m[... skipping hidden 13 frame]\u001b[0m\n",
      "File \u001b[0;32m/app/qdax/core/containers/mome_repertoire.py:128\u001b[0m, in \u001b[0;36mMOMERepertoire.add.<locals>._add_one\u001b[0;34m(carry, data)\u001b[0m\n\u001b[1;32m    112\u001b[0m cell_mask \u001b[38;5;241m=\u001b[39m jnp\u001b[38;5;241m.\u001b[39many(cell_fitness \u001b[38;5;241m==\u001b[39m \u001b[38;5;241m-\u001b[39mjnp\u001b[38;5;241m.\u001b[39minf, axis\u001b[38;5;241m=\u001b[39m\u001b[38;5;241m-\u001b[39m\u001b[38;5;241m1\u001b[39m)\n\u001b[1;32m    114\u001b[0m \u001b[38;5;66;03m# create pareto front genotypes\u001b[39;00m\n\u001b[1;32m    115\u001b[0m \n\u001b[1;32m    116\u001b[0m \u001b[38;5;66;03m# TODO: What is happening there???\u001b[39;00m\n\u001b[0;32m   (...)\u001b[0m\n\u001b[1;32m    121\u001b[0m \n\u001b[1;32m    122\u001b[0m \u001b[38;5;66;03m# update pareto front\u001b[39;00m\n\u001b[1;32m    123\u001b[0m (\n\u001b[1;32m    124\u001b[0m     cell_fitness,\n\u001b[1;32m    125\u001b[0m     cell_genotype,\n\u001b[1;32m    126\u001b[0m     cell_desc,\n\u001b[1;32m    127\u001b[0m     cell_mask,\n\u001b[0;32m--> 128\u001b[0m ) \u001b[38;5;241m=\u001b[39m \u001b[43mupdate_masked_pareto_front\u001b[49m\u001b[43m(\u001b[49m\n\u001b[1;32m    129\u001b[0m \u001b[43m    \u001b[49m\u001b[43mpareto_front_fitness\u001b[49m\u001b[38;5;241;43m=\u001b[39;49m\u001b[43mcell_fitness\u001b[49m\u001b[43m[\u001b[49m\u001b[38;5;241;43m0\u001b[39;49m\u001b[43m,\u001b[49m\u001b[43m \u001b[49m\u001b[43m:\u001b[49m\u001b[43m]\u001b[49m\u001b[43m,\u001b[49m\n\u001b[1;32m    130\u001b[0m \u001b[43m    \u001b[49m\u001b[43mpareto_front_genotypes\u001b[49m\u001b[38;5;241;43m=\u001b[39;49m\u001b[43mcell_genotype\u001b[49m\u001b[43m[\u001b[49m\u001b[38;5;241;43m0\u001b[39;49m\u001b[43m,\u001b[49m\u001b[43m \u001b[49m\u001b[43m:\u001b[49m\u001b[43m]\u001b[49m\u001b[43m,\u001b[49m\n\u001b[1;32m    131\u001b[0m \u001b[43m    \u001b[49m\u001b[43mpareto_front_descriptors\u001b[49m\u001b[38;5;241;43m=\u001b[39;49m\u001b[43mcell_descriptors\u001b[49m\u001b[43m[\u001b[49m\u001b[38;5;241;43m0\u001b[39;49m\u001b[43m,\u001b[49m\u001b[43m \u001b[49m\u001b[43m:\u001b[49m\u001b[43m]\u001b[49m\u001b[43m,\u001b[49m\n\u001b[1;32m    132\u001b[0m \u001b[43m    \u001b[49m\u001b[43mmask\u001b[49m\u001b[38;5;241;43m=\u001b[39;49m\u001b[43mcell_mask\u001b[49m\u001b[43m[\u001b[49m\u001b[38;5;241;43m0\u001b[39;49m\u001b[43m,\u001b[49m\u001b[43m \u001b[49m\u001b[43m:\u001b[49m\u001b[43m]\u001b[49m\u001b[43m,\u001b[49m\n\u001b[1;32m    133\u001b[0m \u001b[43m    \u001b[49m\u001b[43mnew_batch_of_criteria\u001b[49m\u001b[38;5;241;43m=\u001b[39;49m\u001b[43mfitness\u001b[49m\u001b[43m,\u001b[49m\n\u001b[1;32m    134\u001b[0m \u001b[43m    \u001b[49m\u001b[43mnew_batch_of_genotypes\u001b[49m\u001b[38;5;241;43m=\u001b[39;49m\u001b[43mgenotype\u001b[49m\u001b[43m,\u001b[49m\n\u001b[1;32m    135\u001b[0m \u001b[43m    \u001b[49m\u001b[43mnew_batch_of_descriptors\u001b[49m\u001b[38;5;241;43m=\u001b[39;49m\u001b[43mdescriptors\u001b[49m\u001b[43m,\u001b[49m\n\u001b[1;32m    136\u001b[0m \u001b[43m    \u001b[49m\u001b[43mnew_mask\u001b[49m\u001b[38;5;241;43m=\u001b[39;49m\u001b[43mjnp\u001b[49m\u001b[38;5;241;43m.\u001b[39;49m\u001b[43mzeros\u001b[49m\u001b[43m(\u001b[49m\u001b[43mshape\u001b[49m\u001b[38;5;241;43m=\u001b[39;49m\u001b[43m(\u001b[49m\u001b[38;5;241;43m1\u001b[39;49m\u001b[43m,\u001b[49m\u001b[43m)\u001b[49m\u001b[43m,\u001b[49m\u001b[43m \u001b[49m\u001b[43mdtype\u001b[49m\u001b[38;5;241;43m=\u001b[39;49m\u001b[38;5;28;43mbool\u001b[39;49m\u001b[43m)\u001b[49m\u001b[43m,\u001b[49m\n\u001b[1;32m    137\u001b[0m \u001b[43m\u001b[49m\u001b[43m)\u001b[49m\n\u001b[1;32m    139\u001b[0m \u001b[38;5;66;03m# update cell fitness\u001b[39;00m\n\u001b[1;32m    140\u001b[0m cell_fitness \u001b[38;5;241m=\u001b[39m cell_fitness \u001b[38;5;241m-\u001b[39m jnp\u001b[38;5;241m.\u001b[39minf \u001b[38;5;241m*\u001b[39m jnp\u001b[38;5;241m.\u001b[39mexpand_dims(cell_mask, axis\u001b[38;5;241m=\u001b[39m\u001b[38;5;241m-\u001b[39m\u001b[38;5;241m1\u001b[39m)\n",
      "File \u001b[0;32m/app/qdax/utils/mome_utils.py:111\u001b[0m, in \u001b[0;36mupdate_masked_pareto_front\u001b[0;34m(pareto_front_fitness, pareto_front_genotypes, pareto_front_descriptors, mask, new_batch_of_criteria, new_batch_of_genotypes, new_batch_of_descriptors, new_mask)\u001b[0m\n\u001b[1;32m    109\u001b[0m batch_size \u001b[38;5;241m=\u001b[39m new_batch_of_criteria\u001b[38;5;241m.\u001b[39mshape[\u001b[38;5;241m0\u001b[39m]\n\u001b[1;32m    110\u001b[0m pareto_front_len \u001b[38;5;241m=\u001b[39m pareto_front_fitness\u001b[38;5;241m.\u001b[39mshape[\u001b[38;5;241m0\u001b[39m]\n\u001b[0;32m--> 111\u001b[0m num_criteria \u001b[38;5;241m=\u001b[39m \u001b[43mnew_batch_of_criteria\u001b[49m\u001b[38;5;241;43m.\u001b[39;49m\u001b[43mshape\u001b[49m\u001b[43m[\u001b[49m\u001b[38;5;241;43m1\u001b[39;49m\u001b[43m]\u001b[49m\n\u001b[1;32m    112\u001b[0m genotypes_dim \u001b[38;5;241m=\u001b[39m new_batch_of_genotypes\u001b[38;5;241m.\u001b[39mshape[\u001b[38;5;241m0\u001b[39m]\n\u001b[1;32m    113\u001b[0m descriptors_dim \u001b[38;5;241m=\u001b[39m new_batch_of_descriptors\u001b[38;5;241m.\u001b[39mshape[\u001b[38;5;241m0\u001b[39m]\n",
      "\u001b[0;31mIndexError\u001b[0m: tuple index out of range"
     ]
    }
   ],
   "source": [
    "repertoire, emitter_state, random_key = mome.init(\n",
    "    init_genotypes,\n",
    "    centroids,\n",
    "    pareto_front_max_length,\n",
    "    random_key\n",
    ")"
   ]
  },
  {
   "cell_type": "markdown",
   "id": "6de4cedf",
   "metadata": {},
   "source": [
    "## Run MOME iterations"
   ]
  },
  {
   "cell_type": "code",
   "execution_count": null,
   "id": "96ea04e6",
   "metadata": {},
   "outputs": [],
   "source": [
    "%%time\n",
    "\n",
    "# Run the algorithm\n",
    "(repertoire, emitter_state, random_key,), metrics = jax.lax.scan(\n",
    "    mome.scan_update,\n",
    "    (repertoire, emitter_state, random_key),\n",
    "    (),\n",
    "    length=num_iterations,\n",
    ")"
   ]
  },
  {
   "cell_type": "markdown",
   "id": "3ff9ca98",
   "metadata": {},
   "source": [
    "## Visualise results"
   ]
  },
  {
   "cell_type": "code",
   "execution_count": null,
   "id": "6766dc4f",
   "metadata": {},
   "outputs": [],
   "source": [
    "moqd_scores = jnp.sum(metrics.moqd_score, where=metrics.moqd_score!=-jnp.inf, axis=-1)"
   ]
  },
  {
   "cell_type": "code",
   "execution_count": null,
   "id": "28ab56c9",
   "metadata": {},
   "outputs": [],
   "source": [
    "f, (ax1, ax2, ax3, ax4) = plt.subplots(1, 4, figsize=(25, 5))\n",
    "\n",
    "steps = batch_size * jnp.arange(start=0, stop=num_iterations)\n",
    "ax1.plot(steps, moqd_scores)\n",
    "ax1.set_xlabel('Num steps')\n",
    "ax1.set_ylabel('MOQD Score')\n",
    "\n",
    "ax2.plot(steps, metrics.max_hypervolume)\n",
    "ax2.set_xlabel('Num steps')\n",
    "ax2.set_ylabel('Max Hypervolume')\n",
    "\n",
    "ax3.plot(steps, metrics.max_sum_scores)\n",
    "ax3.set_xlabel('Num steps')\n",
    "ax3.set_ylabel('Max Sum Scores')\n",
    "\n",
    "ax4.plot(steps, metrics.coverage)\n",
    "ax4.set_xlabel('Num steps')\n",
    "ax4.set_ylabel('Coverage')\n",
    "plt.show()"
   ]
  },
  {
   "cell_type": "code",
   "execution_count": null,
   "id": "2ab36cb7",
   "metadata": {},
   "outputs": [],
   "source": [
    "fig, axes = plt.subplots(figsize=(12, 6), ncols=2)\n",
    "plot_mome_pareto_fronts(\n",
    "    centroids,\n",
    "    repertoire,\n",
    "    minval=minval,\n",
    "    maxval=maxval,\n",
    "    color_style='spectral',\n",
    "    axes=axes,\n",
    "    with_global=True\n",
    ")\n",
    "plt.show()"
   ]
  },
  {
   "cell_type": "code",
   "execution_count": null,
   "id": "a46fbe83",
   "metadata": {},
   "outputs": [],
   "source": [
    "plot_2d_map_elites_grid(\n",
    "    centroids=centroids,\n",
    "    grid_fitness=metrics.moqd_score[-1],\n",
    "    minval=minval,\n",
    "    maxval=maxval,\n",
    ")\n",
    "plt.show()"
   ]
  },
  {
   "cell_type": "code",
   "execution_count": null,
   "id": "909f1315",
   "metadata": {},
   "outputs": [],
   "source": []
  },
  {
   "cell_type": "code",
   "execution_count": null,
   "id": "4cc0325d",
   "metadata": {},
   "outputs": [],
   "source": []
  },
  {
   "cell_type": "code",
   "execution_count": null,
   "id": "c3e15ec8",
   "metadata": {},
   "outputs": [],
   "source": []
  }
 ],
 "metadata": {
  "kernelspec": {
   "display_name": "Python 3 (ipykernel)",
   "language": "python",
   "name": "python3"
  },
  "language_info": {
   "codemirror_mode": {
    "name": "ipython",
    "version": 3
   },
   "file_extension": ".py",
   "mimetype": "text/x-python",
   "name": "python",
   "nbconvert_exporter": "python",
   "pygments_lexer": "ipython3",
   "version": "3.8.13"
  }
 },
 "nbformat": 4,
 "nbformat_minor": 5
}
