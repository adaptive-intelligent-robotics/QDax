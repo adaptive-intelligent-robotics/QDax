{
 "cells": [
  {
   "cell_type": "code",
   "execution_count": null,
   "id": "37edca66",
   "metadata": {},
   "outputs": [],
   "source": [
    "import jax.numpy as jnp\n",
    "import numpy as np\n",
    "import jax\n",
    "import time\n",
    "\n",
    "from functools import partial\n",
    "from jax import grad, jit, vmap, random\n",
    "\n",
    "from parl.algorithms.map_elites import compute_cvt_centroids\n",
    "from parl.algorithms.deprecated.multi_objectives_map_elites import run_mome\n",
    "from parl.mutation_operators import (\n",
    "    polynomial_mutation_function, \n",
    "    polynomial_crossover_function, \n",
    "    isoline_crossover_function\n",
    ")\n",
    "from parl.plotting import plot_2d_map_elites_grid, plot_mome_pareto_fronts\n",
    "\n",
    "import matplotlib.pyplot as plt\n",
    "from parl.basic_scorers import rastrigin_scorer"
   ]
  },
  {
   "cell_type": "code",
   "execution_count": null,
   "id": "7ad299c4",
   "metadata": {},
   "outputs": [],
   "source": [
    "jax.devices()"
   ]
  },
  {
   "cell_type": "markdown",
   "id": "22495c16",
   "metadata": {},
   "source": [
    "### Example of running MOME on a simple Trigonometry problem"
   ]
  },
  {
   "cell_type": "code",
   "execution_count": null,
   "id": "b96b5d07",
   "metadata": {},
   "outputs": [],
   "source": [
    "pareto_front_max_length = 50\n",
    "num_variables = 10\n",
    "num_iterations = 1000\n",
    "\n",
    "num_centroids = 64\n",
    "minval = -2\n",
    "maxval = 4\n",
    "proportion_to_mutate = 0.6\n",
    "eta = 1\n",
    "proportion_var_to_change = 0.5\n",
    "crossover_percentage = 1.0\n",
    "batch_size = 100\n",
    "lag = 2.2\n",
    "base_lag = 0\n",
    "key = random.PRNGKey(42)\n",
    "descriptor_mode=\"first\"\n",
    "grid_type = 'voronoi'"
   ]
  },
  {
   "cell_type": "code",
   "execution_count": null,
   "id": "231d273d",
   "metadata": {},
   "outputs": [],
   "source": [
    "scoring_function = partial(rastrigin_scorer, base_lag=base_lag, lag=lag)"
   ]
  },
  {
   "cell_type": "code",
   "execution_count": null,
   "id": "ebf3bd27",
   "metadata": {},
   "outputs": [],
   "source": [
    "crossover_function = partial(\n",
    "    polynomial_crossover_function,\n",
    "    proportion_var_to_change = proportion_var_to_change\n",
    ")\n",
    "\n",
    "mutation_function = partial(\n",
    "    polynomial_mutation_function,\n",
    "    eta=eta,\n",
    "    minval=minval,\n",
    "    maxval=maxval,\n",
    "    proportion_to_mutate=proportion_to_mutate\n",
    ")\n",
    "\n",
    "line_crossover_function = partial(\n",
    "    isoline_crossover_function,\n",
    "    iso_sigma=0.005,\n",
    "    line_sigma=0.05,\n",
    ")"
   ]
  },
  {
   "cell_type": "code",
   "execution_count": null,
   "id": "2d21f777",
   "metadata": {},
   "outputs": [],
   "source": [
    "if False:\n",
    "    x, y = jnp.arange(-5, 5, step=0.2), jnp.arange(-5, 5, step=0.2)\n",
    "\n",
    "    #Score\n",
    "    all_enumerations = jnp.array([[(x[i], y[j]) for j in range(len(x))] for i in range(len(x))])\n",
    "    all_enumerations = jnp.concatenate(all_enumerations)\n",
    "    all_scores = scorer.compute_scores(all_enumerations)\n",
    "    reference_point = jnp.array([jnp.min(all_scores[:, 0]), jnp.min(all_scores[:, 1])])\n",
    "    \n",
    "if True:\n",
    "    reference_point = jnp.array([ -150, -150])"
   ]
  },
  {
   "cell_type": "code",
   "execution_count": null,
   "id": "76547c4c",
   "metadata": {},
   "outputs": [],
   "source": [
    "if grid_type == 'voronoi':\n",
    "    \n",
    "    init_time = time.time()\n",
    "    centroids = compute_cvt_centroids(\n",
    "        num_descriptors=2, \n",
    "        num_init_cvt_samples=20000, \n",
    "        num_centroids=num_centroids, \n",
    "        minval=minval, \n",
    "        maxval=maxval\n",
    "    )\n",
    "    duration = time.time() - init_time\n",
    "    print(f'Computed centroids in {duration:.2f}s')\n",
    "    centroids = centroids[jnp.argsort(centroids[:, 0])]\n",
    "    \n",
    "else:\n",
    "    \n",
    "    step = 0.5\n",
    "    centroids = jnp.concatenate([\n",
    "        jnp.array([[i,j] for j in jnp.arange(minval-step, maxval+step, step)]) \n",
    "        for i in jnp.arange(minval-step, maxval+step, step)]\n",
    "    )\n",
    "    num_centroids = len(centroids)  "
   ]
  },
  {
   "cell_type": "code",
   "execution_count": null,
   "id": "d51a1cc5",
   "metadata": {},
   "outputs": [],
   "source": [
    "run_fn = jax.jit(partial(\n",
    "    run_mome,\n",
    "    scoring_function=scoring_function,\n",
    "    crossover_function=line_crossover_function,\n",
    "    mutation_function=mutation_function,\n",
    "    batch_size=batch_size,\n",
    "    num_iterations=num_iterations,\n",
    "    crossover_percentage=crossover_percentage,\n",
    "    pareto_front_max_length=pareto_front_max_length,\n",
    "    reference_point=reference_point\n",
    "))"
   ]
  },
  {
   "cell_type": "code",
   "execution_count": null,
   "id": "ccb779e2",
   "metadata": {},
   "outputs": [],
   "source": [
    "init_time = time.time()\n",
    "\n",
    "x = jax.random.uniform(key, (batch_size, num_variables), minval=minval, maxval=maxval, dtype=jnp.float32)\n",
    "\n",
    "map_elites_grid, metrics = run_fn(\n",
    "    init_genotypes=x,\n",
    "    centroids=centroids,\n",
    "    random_key=key,\n",
    ")\n",
    "\n",
    "duration = time.time() - init_time\n",
    "print(f'MOME ran for {duration:.2f}s')"
   ]
  },
  {
   "cell_type": "code",
   "execution_count": null,
   "id": "6766dc4f",
   "metadata": {},
   "outputs": [],
   "source": [
    "moqd_scores = jnp.sum(metrics.moqd_score, where=metrics.moqd_score!=-jnp.inf, axis=-1)"
   ]
  },
  {
   "cell_type": "code",
   "execution_count": null,
   "id": "28ab56c9",
   "metadata": {},
   "outputs": [],
   "source": [
    "f, (ax1, ax2, ax3, ax4) = plt.subplots(1, 4, figsize=(25, 5))\n",
    "\n",
    "steps = batch_size * jnp.arange(start=0, stop=num_iterations+1)\n",
    "ax1.plot(steps, moqd_scores)\n",
    "ax1.set_xlabel('Num steps')\n",
    "ax1.set_ylabel('MOQD Score')\n",
    "\n",
    "ax2.plot(steps, metrics.max_hypervolume)\n",
    "ax2.set_xlabel('Num steps')\n",
    "ax2.set_ylabel('Max Hypervolume')\n",
    "\n",
    "ax3.plot(steps, metrics.max_sum_scores)\n",
    "ax3.set_xlabel('Num steps')\n",
    "ax3.set_ylabel('Max Sum Scores')\n",
    "\n",
    "ax4.plot(steps, metrics.coverage)\n",
    "ax4.set_xlabel('Num steps')\n",
    "ax4.set_ylabel('Coverage')\n",
    "plt.show()"
   ]
  },
  {
   "cell_type": "code",
   "execution_count": null,
   "id": "2ab36cb7",
   "metadata": {},
   "outputs": [],
   "source": [
    "from parl.plotting import plot_mome_pareto_fronts\n",
    "\n",
    "fig, axes = plt.subplots(figsize=(12, 6), ncols=2)\n",
    "plot_mome_pareto_fronts(\n",
    "    centroids,\n",
    "    map_elites_grid,\n",
    "    minval=minval,\n",
    "    maxval=maxval,\n",
    "    color_style='spectral',\n",
    "    axes=axes,\n",
    "    with_global=True\n",
    ")\n",
    "plt.show()"
   ]
  },
  {
   "cell_type": "code",
   "execution_count": null,
   "id": "a46fbe83",
   "metadata": {},
   "outputs": [],
   "source": [
    "plot_2d_map_elites_grid(\n",
    "    centroids=centroids,\n",
    "    grid_fitness=metrics.moqd_score[-1],\n",
    "    minval=minval,\n",
    "    maxval=maxval,\n",
    ")\n",
    "plt.show()"
   ]
  },
  {
   "cell_type": "code",
   "execution_count": null,
   "id": "909f1315",
   "metadata": {},
   "outputs": [],
   "source": []
  }
 ],
 "metadata": {
  "kernelspec": {
   "display_name": "Python 3 (ipykernel)",
   "language": "python",
   "name": "python3"
  },
  "language_info": {
   "codemirror_mode": {
    "name": "ipython",
    "version": 3
   },
   "file_extension": ".py",
   "mimetype": "text/x-python",
   "name": "python",
   "nbconvert_exporter": "python",
   "pygments_lexer": "ipython3",
   "version": "3.9.0"
  }
 },
 "nbformat": 4,
 "nbformat_minor": 5
}
